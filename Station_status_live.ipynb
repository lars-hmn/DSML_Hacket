{
 "cells": [
  {
   "cell_type": "code",
   "execution_count": null,
   "id": "aa2a8bcd",
   "metadata": {},
   "outputs": [],
   "source": [
    "import requests\n",
    "import numpy as np\n",
    "import time\n",
    "\n",
    "import matplotlib as mpl\n",
    "import matplotlib.pyplot as plt\n",
    "\n",
    "import pandas as pd"
   ]
  },
  {
   "cell_type": "code",
   "execution_count": null,
   "id": "00bb8e87",
   "metadata": {},
   "outputs": [],
   "source": [
    "def call_api(url: str) -> dict:\n",
    "    r = requests.get(url)\n",
    "    return r.json()\n",
    "\n",
    "def prepare_data() -> pd.DataFrame:\n",
    "    \n",
    "    api_url ='https://kiosks.bicycletransit.workers.dev/phl'\n",
    "    \n",
    "    # get the rent data from the api call\n",
    "    stations = call_api(api_url)['features']\n",
    "    # normalize rents into a dataframe\n",
    "    data = pd.json_normalize(stations)\n",
    "    \n",
    "    print(data)\n",
    "    time.sleep(5)\n",
    "    return data"
   ]
  },
  {
   "cell_type": "code",
   "execution_count": null,
   "id": "8f83a9dd",
   "metadata": {},
   "outputs": [],
   "source": [
    "\n",
    "prepare_data()\n"
   ]
  },
  {
   "cell_type": "code",
   "execution_count": null,
   "id": "424db7d8",
   "metadata": {},
   "outputs": [],
   "source": []
  }
 ],
 "metadata": {
  "kernelspec": {
   "display_name": "Python 3",
   "language": "python",
   "name": "python3"
  },
  "language_info": {
   "codemirror_mode": {
    "name": "ipython",
    "version": 3
   },
   "file_extension": ".py",
   "mimetype": "text/x-python",
   "name": "python",
   "nbconvert_exporter": "python",
   "pygments_lexer": "ipython3",
   "version": "3.9.1"
  }
 },
 "nbformat": 4,
 "nbformat_minor": 5
}
