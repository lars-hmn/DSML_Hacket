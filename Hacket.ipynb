{
 "cells": [
  {
   "cell_type": "markdown",
   "id": "30fe92b5",
   "metadata": {},
   "source": [
    "# 1. Data Collection"
   ]
  },
  {
   "cell_type": "markdown",
   "id": "ec843a67",
   "metadata": {},
   "source": [
    "## 1.1 Import all Necessary Packages"
   ]
  },
  {
   "cell_type": "code",
   "execution_count": 46,
   "id": "4901b481",
   "metadata": {},
   "outputs": [],
   "source": [
    "import numpy as np\n",
    "\n",
    "import matplotlib as mpl\n",
    "import matplotlib.pyplot as plt\n",
    "\n",
    "import pandas as pd\n",
    "\n",
    "import seaborn as sns\n",
    "\n",
    "from datetime import date, time, datetime, timedelta"
   ]
  },
  {
   "cell_type": "markdown",
   "id": "d574c02b",
   "metadata": {},
   "source": [
    "## 1.2 Import the Raw Data"
   ]
  },
  {
   "cell_type": "code",
   "execution_count": 47,
   "id": "1b4da26c",
   "metadata": {},
   "outputs": [],
   "source": [
    "data = pd.read_csv(\"philadelphia_2019.csv\")\n",
    "weatherData = pd.read_csv(\"weather_hourly_philadelphia.csv\")"
   ]
  },
  {
   "cell_type": "markdown",
   "id": "33677080",
   "metadata": {},
   "source": [
    "## 1.3 Get an Overview over the Dataset"
   ]
  },
  {
   "cell_type": "code",
   "execution_count": 48,
   "id": "f79f3ef1",
   "metadata": {
    "scrolled": true
   },
   "outputs": [
    {
     "data": {
      "text/html": [
       "<div>\n",
       "<style scoped>\n",
       "    .dataframe tbody tr th:only-of-type {\n",
       "        vertical-align: middle;\n",
       "    }\n",
       "\n",
       "    .dataframe tbody tr th {\n",
       "        vertical-align: top;\n",
       "    }\n",
       "\n",
       "    .dataframe thead th {\n",
       "        text-align: right;\n",
       "    }\n",
       "</style>\n",
       "<table border=\"1\" class=\"dataframe\">\n",
       "  <thead>\n",
       "    <tr style=\"text-align: right;\">\n",
       "      <th></th>\n",
       "      <th>start_time</th>\n",
       "      <th>end_time</th>\n",
       "      <th>start_station_id</th>\n",
       "      <th>end_station_id</th>\n",
       "      <th>bike_id</th>\n",
       "      <th>user_type</th>\n",
       "      <th>start_station_name</th>\n",
       "      <th>end_station_name</th>\n",
       "    </tr>\n",
       "  </thead>\n",
       "  <tbody>\n",
       "    <tr>\n",
       "      <th>0</th>\n",
       "      <td>2019-01-01 00:19:00</td>\n",
       "      <td>2019-01-01 00:27:00</td>\n",
       "      <td>3049</td>\n",
       "      <td>3007</td>\n",
       "      <td>14495</td>\n",
       "      <td>Indego30</td>\n",
       "      <td>Foglietta Plaza</td>\n",
       "      <td>11th &amp; Pine, Kahn Park</td>\n",
       "    </tr>\n",
       "    <tr>\n",
       "      <th>1</th>\n",
       "      <td>2019-01-01 00:30:00</td>\n",
       "      <td>2019-01-01 00:37:00</td>\n",
       "      <td>3005</td>\n",
       "      <td>3007</td>\n",
       "      <td>5332</td>\n",
       "      <td>Day Pass</td>\n",
       "      <td>Welcome Park, NPS</td>\n",
       "      <td>11th &amp; Pine, Kahn Park</td>\n",
       "    </tr>\n",
       "    <tr>\n",
       "      <th>2</th>\n",
       "      <td>2019-01-01 00:52:00</td>\n",
       "      <td>2019-01-01 01:05:00</td>\n",
       "      <td>3166</td>\n",
       "      <td>3169</td>\n",
       "      <td>14623</td>\n",
       "      <td>Indego30</td>\n",
       "      <td>Frankford &amp; Belgrade</td>\n",
       "      <td>2nd &amp; Race</td>\n",
       "    </tr>\n",
       "    <tr>\n",
       "      <th>3</th>\n",
       "      <td>2019-01-01 00:55:00</td>\n",
       "      <td>2019-01-01 01:04:00</td>\n",
       "      <td>3058</td>\n",
       "      <td>3103</td>\n",
       "      <td>11706</td>\n",
       "      <td>Indego30</td>\n",
       "      <td>20th &amp; Fairmount</td>\n",
       "      <td>27th &amp; Master, Athletic Recreation Center</td>\n",
       "    </tr>\n",
       "    <tr>\n",
       "      <th>4</th>\n",
       "      <td>2019-01-01 01:05:00</td>\n",
       "      <td>2019-01-01 01:17:00</td>\n",
       "      <td>3182</td>\n",
       "      <td>3028</td>\n",
       "      <td>11039</td>\n",
       "      <td>Indego30</td>\n",
       "      <td>17th &amp; Sansom</td>\n",
       "      <td>4th &amp; Bainbridge</td>\n",
       "    </tr>\n",
       "  </tbody>\n",
       "</table>\n",
       "</div>"
      ],
      "text/plain": [
       "            start_time             end_time  start_station_id  end_station_id  \\\n",
       "0  2019-01-01 00:19:00  2019-01-01 00:27:00              3049            3007   \n",
       "1  2019-01-01 00:30:00  2019-01-01 00:37:00              3005            3007   \n",
       "2  2019-01-01 00:52:00  2019-01-01 01:05:00              3166            3169   \n",
       "3  2019-01-01 00:55:00  2019-01-01 01:04:00              3058            3103   \n",
       "4  2019-01-01 01:05:00  2019-01-01 01:17:00              3182            3028   \n",
       "\n",
       "   bike_id user_type    start_station_name  \\\n",
       "0    14495  Indego30       Foglietta Plaza   \n",
       "1     5332  Day Pass     Welcome Park, NPS   \n",
       "2    14623  Indego30  Frankford & Belgrade   \n",
       "3    11706  Indego30      20th & Fairmount   \n",
       "4    11039  Indego30         17th & Sansom   \n",
       "\n",
       "                            end_station_name  \n",
       "0                     11th & Pine, Kahn Park  \n",
       "1                     11th & Pine, Kahn Park  \n",
       "2                                 2nd & Race  \n",
       "3  27th & Master, Athletic Recreation Center  \n",
       "4                           4th & Bainbridge  "
      ]
     },
     "execution_count": 48,
     "metadata": {},
     "output_type": "execute_result"
    }
   ],
   "source": [
    "data.head()"
   ]
  },
  {
   "cell_type": "code",
   "execution_count": 49,
   "id": "bb4dc647",
   "metadata": {},
   "outputs": [
    {
     "data": {
      "text/html": [
       "<div>\n",
       "<style scoped>\n",
       "    .dataframe tbody tr th:only-of-type {\n",
       "        vertical-align: middle;\n",
       "    }\n",
       "\n",
       "    .dataframe tbody tr th {\n",
       "        vertical-align: top;\n",
       "    }\n",
       "\n",
       "    .dataframe thead th {\n",
       "        text-align: right;\n",
       "    }\n",
       "</style>\n",
       "<table border=\"1\" class=\"dataframe\">\n",
       "  <thead>\n",
       "    <tr style=\"text-align: right;\">\n",
       "      <th></th>\n",
       "      <th>start_station_id</th>\n",
       "      <th>end_station_id</th>\n",
       "      <th>bike_id</th>\n",
       "    </tr>\n",
       "  </thead>\n",
       "  <tbody>\n",
       "    <tr>\n",
       "      <th>count</th>\n",
       "      <td>744260.000000</td>\n",
       "      <td>744260.000000</td>\n",
       "      <td>744260.000000</td>\n",
       "    </tr>\n",
       "    <tr>\n",
       "      <th>mean</th>\n",
       "      <td>3081.936112</td>\n",
       "      <td>3081.409467</td>\n",
       "      <td>9825.729611</td>\n",
       "    </tr>\n",
       "    <tr>\n",
       "      <th>std</th>\n",
       "      <td>58.702453</td>\n",
       "      <td>59.296591</td>\n",
       "      <td>5404.388722</td>\n",
       "    </tr>\n",
       "    <tr>\n",
       "      <th>min</th>\n",
       "      <td>3000.000000</td>\n",
       "      <td>3000.000000</td>\n",
       "      <td>1.000000</td>\n",
       "    </tr>\n",
       "    <tr>\n",
       "      <th>25%</th>\n",
       "      <td>3033.000000</td>\n",
       "      <td>3032.000000</td>\n",
       "      <td>3729.000000</td>\n",
       "    </tr>\n",
       "    <tr>\n",
       "      <th>50%</th>\n",
       "      <td>3062.000000</td>\n",
       "      <td>3062.000000</td>\n",
       "      <td>11744.000000</td>\n",
       "    </tr>\n",
       "    <tr>\n",
       "      <th>75%</th>\n",
       "      <td>3123.000000</td>\n",
       "      <td>3124.000000</td>\n",
       "      <td>14592.000000</td>\n",
       "    </tr>\n",
       "    <tr>\n",
       "      <th>max</th>\n",
       "      <td>3210.000000</td>\n",
       "      <td>3210.000000</td>\n",
       "      <td>20265.000000</td>\n",
       "    </tr>\n",
       "  </tbody>\n",
       "</table>\n",
       "</div>"
      ],
      "text/plain": [
       "       start_station_id  end_station_id        bike_id\n",
       "count     744260.000000   744260.000000  744260.000000\n",
       "mean        3081.936112     3081.409467    9825.729611\n",
       "std           58.702453       59.296591    5404.388722\n",
       "min         3000.000000     3000.000000       1.000000\n",
       "25%         3033.000000     3032.000000    3729.000000\n",
       "50%         3062.000000     3062.000000   11744.000000\n",
       "75%         3123.000000     3124.000000   14592.000000\n",
       "max         3210.000000     3210.000000   20265.000000"
      ]
     },
     "execution_count": 49,
     "metadata": {},
     "output_type": "execute_result"
    }
   ],
   "source": [
    "data.describe()"
   ]
  },
  {
   "cell_type": "code",
   "execution_count": 50,
   "id": "056eea62",
   "metadata": {},
   "outputs": [
    {
     "name": "stdout",
     "output_type": "stream",
     "text": [
      "<class 'pandas.core.frame.DataFrame'>\n",
      "RangeIndex: 744260 entries, 0 to 744259\n",
      "Data columns (total 8 columns):\n",
      " #   Column              Non-Null Count   Dtype \n",
      "---  ------              --------------   ----- \n",
      " 0   start_time          744260 non-null  object\n",
      " 1   end_time            744260 non-null  object\n",
      " 2   start_station_id    744260 non-null  int64 \n",
      " 3   end_station_id      744260 non-null  int64 \n",
      " 4   bike_id             744260 non-null  int64 \n",
      " 5   user_type           744225 non-null  object\n",
      " 6   start_station_name  744260 non-null  object\n",
      " 7   end_station_name    744260 non-null  object\n",
      "dtypes: int64(3), object(5)\n",
      "memory usage: 45.4+ MB\n"
     ]
    }
   ],
   "source": [
    "data.info()"
   ]
  },
  {
   "cell_type": "code",
   "execution_count": 51,
   "id": "0079fe07",
   "metadata": {
    "scrolled": true
   },
   "outputs": [
    {
     "data": {
      "text/plain": [
       "array(['Indego30', 'Day Pass', 'Indego365', 'IndegoFlex', 'Walk-up', nan],\n",
       "      dtype=object)"
      ]
     },
     "execution_count": 51,
     "metadata": {},
     "output_type": "execute_result"
    }
   ],
   "source": [
    "# get all different user types\n",
    "\n",
    "user_type_list = data['user_type'].unique()\n",
    "user_type_list"
   ]
  },
  {
   "cell_type": "code",
   "execution_count": 52,
   "id": "6cfd2049",
   "metadata": {},
   "outputs": [
    {
     "name": "stdout",
     "output_type": "stream",
     "text": [
      "<class 'pandas.core.frame.DataFrame'>\n",
      "RangeIndex: 43848 entries, 0 to 43847\n",
      "Data columns (total 4 columns):\n",
      " #   Column     Non-Null Count  Dtype  \n",
      "---  ------     --------------  -----  \n",
      " 0   date_time  43785 non-null  object \n",
      " 1   max_temp   43785 non-null  float64\n",
      " 2   min_temp   43785 non-null  float64\n",
      " 3   precip     43785 non-null  float64\n",
      "dtypes: float64(3), object(1)\n",
      "memory usage: 1.3+ MB\n"
     ]
    }
   ],
   "source": [
    "weatherData.info()"
   ]
  },
  {
   "cell_type": "code",
   "execution_count": 53,
   "id": "effe5091",
   "metadata": {},
   "outputs": [
    {
     "data": {
      "text/html": [
       "<div>\n",
       "<style scoped>\n",
       "    .dataframe tbody tr th:only-of-type {\n",
       "        vertical-align: middle;\n",
       "    }\n",
       "\n",
       "    .dataframe tbody tr th {\n",
       "        vertical-align: top;\n",
       "    }\n",
       "\n",
       "    .dataframe thead th {\n",
       "        text-align: right;\n",
       "    }\n",
       "</style>\n",
       "<table border=\"1\" class=\"dataframe\">\n",
       "  <thead>\n",
       "    <tr style=\"text-align: right;\">\n",
       "      <th></th>\n",
       "      <th>date_time</th>\n",
       "      <th>max_temp</th>\n",
       "      <th>min_temp</th>\n",
       "      <th>precip</th>\n",
       "    </tr>\n",
       "  </thead>\n",
       "  <tbody>\n",
       "    <tr>\n",
       "      <th>0</th>\n",
       "      <td>2015-01-02 01:00:00</td>\n",
       "      <td>3.3</td>\n",
       "      <td>3.3</td>\n",
       "      <td>0.0</td>\n",
       "    </tr>\n",
       "    <tr>\n",
       "      <th>1</th>\n",
       "      <td>2015-01-02 02:00:00</td>\n",
       "      <td>2.8</td>\n",
       "      <td>2.8</td>\n",
       "      <td>0.0</td>\n",
       "    </tr>\n",
       "    <tr>\n",
       "      <th>2</th>\n",
       "      <td>2015-01-02 03:00:00</td>\n",
       "      <td>2.2</td>\n",
       "      <td>2.2</td>\n",
       "      <td>0.0</td>\n",
       "    </tr>\n",
       "    <tr>\n",
       "      <th>3</th>\n",
       "      <td>2015-01-02 04:00:00</td>\n",
       "      <td>0.6</td>\n",
       "      <td>0.6</td>\n",
       "      <td>0.0</td>\n",
       "    </tr>\n",
       "    <tr>\n",
       "      <th>4</th>\n",
       "      <td>2015-01-02 05:00:00</td>\n",
       "      <td>1.1</td>\n",
       "      <td>1.1</td>\n",
       "      <td>0.0</td>\n",
       "    </tr>\n",
       "  </tbody>\n",
       "</table>\n",
       "</div>"
      ],
      "text/plain": [
       "             date_time  max_temp  min_temp  precip\n",
       "0  2015-01-02 01:00:00       3.3       3.3     0.0\n",
       "1  2015-01-02 02:00:00       2.8       2.8     0.0\n",
       "2  2015-01-02 03:00:00       2.2       2.2     0.0\n",
       "3  2015-01-02 04:00:00       0.6       0.6     0.0\n",
       "4  2015-01-02 05:00:00       1.1       1.1     0.0"
      ]
     },
     "execution_count": 53,
     "metadata": {},
     "output_type": "execute_result"
    }
   ],
   "source": [
    "weatherData.head()"
   ]
  },
  {
   "cell_type": "code",
   "execution_count": 54,
   "id": "ab9360b1",
   "metadata": {},
   "outputs": [
    {
     "name": "stdout",
     "output_type": "stream",
     "text": [
      "The bike fleet from Indego consists of 1677 bikes (for the observed time frame)\n"
     ]
    }
   ],
   "source": [
    "# Get total Fleet Size and Availability\n",
    "\n",
    "fleet_size = len(data[\"bike_id\"].unique())\n",
    "\n",
    "print(\"The bike fleet from Indego consists of {} bikes (for the observed time frame)\".format(fleet_size))"
   ]
  },
  {
   "cell_type": "markdown",
   "id": "d99c632b",
   "metadata": {},
   "source": [
    "# 2. Data Preparation"
   ]
  },
  {
   "cell_type": "markdown",
   "id": "912c9c4c",
   "metadata": {},
   "source": [
    "## 2.1 Formatting and Adding Attributes"
   ]
  },
  {
   "cell_type": "code",
   "execution_count": 55,
   "id": "208fe3e4",
   "metadata": {},
   "outputs": [],
   "source": [
    "# make timestamps out of 'start_time' and 'end_time'\n",
    "\n",
    "data['start_time'] = pd.to_datetime(data['start_time'])\n",
    "data['end_time'] = pd.to_datetime(data['end_time'])"
   ]
  },
  {
   "cell_type": "code",
   "execution_count": 56,
   "id": "80d5dac2",
   "metadata": {
    "scrolled": true
   },
   "outputs": [],
   "source": [
    "# add durations of each ride\n",
    "\n",
    "data['duration'] = data['end_time'] - data['start_time']"
   ]
  },
  {
   "cell_type": "code",
   "execution_count": 57,
   "id": "39e3c302",
   "metadata": {},
   "outputs": [],
   "source": [
    "# Maps time of day and day of week to our DF\n",
    "\n",
    "def get_date (ts):\n",
    "    return ts.date()\n",
    "\n",
    "def get_weekday (ts):\n",
    "    return ts.weekday()\n",
    "\n",
    "def get_hour (ts):\n",
    "    return ts.hour\n",
    "\n",
    "def get_minute (ts):\n",
    "    return ts.minute"
   ]
  },
  {
   "cell_type": "code",
   "execution_count": 58,
   "id": "78f62c6f",
   "metadata": {},
   "outputs": [],
   "source": [
    "# splits start/ end time further into date, weekday, hour and minute\n",
    "\n",
    "data[\"start_date\"] = data[\"start_time\"].apply(lambda ts: get_date (ts))\n",
    "data[\"start_weekday\"]=data[\"start_time\"].apply(lambda x: get_weekday (x))\n",
    "data[\"start_hour\"]=data[\"start_time\"].apply(lambda x: get_hour (x))\n",
    "data[\"start_minute\"]=data[\"start_time\"].apply(lambda x: get_minute (x))\n",
    "\n",
    "data[\"end_date\"] = data[\"end_time\"].apply(lambda ts: get_date (ts))\n",
    "data[\"end_weekday\"]=data[\"end_time\"].apply(lambda x: get_weekday (x))\n",
    "data[\"end_hour\"]=data[\"end_time\"].apply(lambda x: get_hour (x))\n",
    "data[\"end_minute\"]=data[\"end_time\"].apply(lambda x: get_minute (x))"
   ]
  },
  {
   "cell_type": "code",
   "execution_count": 59,
   "id": "3b2596bb",
   "metadata": {},
   "outputs": [
    {
     "data": {
      "text/html": [
       "<div>\n",
       "<style scoped>\n",
       "    .dataframe tbody tr th:only-of-type {\n",
       "        vertical-align: middle;\n",
       "    }\n",
       "\n",
       "    .dataframe tbody tr th {\n",
       "        vertical-align: top;\n",
       "    }\n",
       "\n",
       "    .dataframe thead th {\n",
       "        text-align: right;\n",
       "    }\n",
       "</style>\n",
       "<table border=\"1\" class=\"dataframe\">\n",
       "  <thead>\n",
       "    <tr style=\"text-align: right;\">\n",
       "      <th></th>\n",
       "      <th>start_time</th>\n",
       "      <th>end_time</th>\n",
       "      <th>start_station_id</th>\n",
       "      <th>end_station_id</th>\n",
       "      <th>bike_id</th>\n",
       "      <th>user_type</th>\n",
       "      <th>start_station_name</th>\n",
       "      <th>end_station_name</th>\n",
       "      <th>duration</th>\n",
       "      <th>start_date</th>\n",
       "      <th>start_weekday</th>\n",
       "      <th>start_hour</th>\n",
       "      <th>start_minute</th>\n",
       "      <th>end_date</th>\n",
       "      <th>end_weekday</th>\n",
       "      <th>end_hour</th>\n",
       "      <th>end_minute</th>\n",
       "      <th>weekday_verbose_start</th>\n",
       "      <th>weekday_verbose_end</th>\n",
       "    </tr>\n",
       "  </thead>\n",
       "  <tbody>\n",
       "    <tr>\n",
       "      <th>0</th>\n",
       "      <td>2019-01-01 00:19:00</td>\n",
       "      <td>2019-01-01 00:27:00</td>\n",
       "      <td>3049</td>\n",
       "      <td>3007</td>\n",
       "      <td>14495</td>\n",
       "      <td>Indego30</td>\n",
       "      <td>Foglietta Plaza</td>\n",
       "      <td>11th &amp; Pine, Kahn Park</td>\n",
       "      <td>0 days 00:08:00</td>\n",
       "      <td>2019-01-01</td>\n",
       "      <td>1</td>\n",
       "      <td>0</td>\n",
       "      <td>19</td>\n",
       "      <td>2019-01-01</td>\n",
       "      <td>1</td>\n",
       "      <td>0</td>\n",
       "      <td>27</td>\n",
       "      <td>Tue</td>\n",
       "      <td>Tue</td>\n",
       "    </tr>\n",
       "    <tr>\n",
       "      <th>1</th>\n",
       "      <td>2019-01-01 00:30:00</td>\n",
       "      <td>2019-01-01 00:37:00</td>\n",
       "      <td>3005</td>\n",
       "      <td>3007</td>\n",
       "      <td>5332</td>\n",
       "      <td>Day Pass</td>\n",
       "      <td>Welcome Park, NPS</td>\n",
       "      <td>11th &amp; Pine, Kahn Park</td>\n",
       "      <td>0 days 00:07:00</td>\n",
       "      <td>2019-01-01</td>\n",
       "      <td>1</td>\n",
       "      <td>0</td>\n",
       "      <td>30</td>\n",
       "      <td>2019-01-01</td>\n",
       "      <td>1</td>\n",
       "      <td>0</td>\n",
       "      <td>37</td>\n",
       "      <td>Tue</td>\n",
       "      <td>Tue</td>\n",
       "    </tr>\n",
       "    <tr>\n",
       "      <th>2</th>\n",
       "      <td>2019-01-01 00:52:00</td>\n",
       "      <td>2019-01-01 01:05:00</td>\n",
       "      <td>3166</td>\n",
       "      <td>3169</td>\n",
       "      <td>14623</td>\n",
       "      <td>Indego30</td>\n",
       "      <td>Frankford &amp; Belgrade</td>\n",
       "      <td>2nd &amp; Race</td>\n",
       "      <td>0 days 00:13:00</td>\n",
       "      <td>2019-01-01</td>\n",
       "      <td>1</td>\n",
       "      <td>0</td>\n",
       "      <td>52</td>\n",
       "      <td>2019-01-01</td>\n",
       "      <td>1</td>\n",
       "      <td>1</td>\n",
       "      <td>5</td>\n",
       "      <td>Tue</td>\n",
       "      <td>Tue</td>\n",
       "    </tr>\n",
       "    <tr>\n",
       "      <th>3</th>\n",
       "      <td>2019-01-01 00:55:00</td>\n",
       "      <td>2019-01-01 01:04:00</td>\n",
       "      <td>3058</td>\n",
       "      <td>3103</td>\n",
       "      <td>11706</td>\n",
       "      <td>Indego30</td>\n",
       "      <td>20th &amp; Fairmount</td>\n",
       "      <td>27th &amp; Master, Athletic Recreation Center</td>\n",
       "      <td>0 days 00:09:00</td>\n",
       "      <td>2019-01-01</td>\n",
       "      <td>1</td>\n",
       "      <td>0</td>\n",
       "      <td>55</td>\n",
       "      <td>2019-01-01</td>\n",
       "      <td>1</td>\n",
       "      <td>1</td>\n",
       "      <td>4</td>\n",
       "      <td>Tue</td>\n",
       "      <td>Tue</td>\n",
       "    </tr>\n",
       "    <tr>\n",
       "      <th>4</th>\n",
       "      <td>2019-01-01 01:05:00</td>\n",
       "      <td>2019-01-01 01:17:00</td>\n",
       "      <td>3182</td>\n",
       "      <td>3028</td>\n",
       "      <td>11039</td>\n",
       "      <td>Indego30</td>\n",
       "      <td>17th &amp; Sansom</td>\n",
       "      <td>4th &amp; Bainbridge</td>\n",
       "      <td>0 days 00:12:00</td>\n",
       "      <td>2019-01-01</td>\n",
       "      <td>1</td>\n",
       "      <td>1</td>\n",
       "      <td>5</td>\n",
       "      <td>2019-01-01</td>\n",
       "      <td>1</td>\n",
       "      <td>1</td>\n",
       "      <td>17</td>\n",
       "      <td>Tue</td>\n",
       "      <td>Tue</td>\n",
       "    </tr>\n",
       "  </tbody>\n",
       "</table>\n",
       "</div>"
      ],
      "text/plain": [
       "           start_time            end_time  start_station_id  end_station_id  \\\n",
       "0 2019-01-01 00:19:00 2019-01-01 00:27:00              3049            3007   \n",
       "1 2019-01-01 00:30:00 2019-01-01 00:37:00              3005            3007   \n",
       "2 2019-01-01 00:52:00 2019-01-01 01:05:00              3166            3169   \n",
       "3 2019-01-01 00:55:00 2019-01-01 01:04:00              3058            3103   \n",
       "4 2019-01-01 01:05:00 2019-01-01 01:17:00              3182            3028   \n",
       "\n",
       "   bike_id user_type    start_station_name  \\\n",
       "0    14495  Indego30       Foglietta Plaza   \n",
       "1     5332  Day Pass     Welcome Park, NPS   \n",
       "2    14623  Indego30  Frankford & Belgrade   \n",
       "3    11706  Indego30      20th & Fairmount   \n",
       "4    11039  Indego30         17th & Sansom   \n",
       "\n",
       "                            end_station_name        duration  start_date  \\\n",
       "0                     11th & Pine, Kahn Park 0 days 00:08:00  2019-01-01   \n",
       "1                     11th & Pine, Kahn Park 0 days 00:07:00  2019-01-01   \n",
       "2                                 2nd & Race 0 days 00:13:00  2019-01-01   \n",
       "3  27th & Master, Athletic Recreation Center 0 days 00:09:00  2019-01-01   \n",
       "4                           4th & Bainbridge 0 days 00:12:00  2019-01-01   \n",
       "\n",
       "   start_weekday  start_hour  start_minute    end_date  end_weekday  end_hour  \\\n",
       "0              1           0            19  2019-01-01            1         0   \n",
       "1              1           0            30  2019-01-01            1         0   \n",
       "2              1           0            52  2019-01-01            1         1   \n",
       "3              1           0            55  2019-01-01            1         1   \n",
       "4              1           1             5  2019-01-01            1         1   \n",
       "\n",
       "   end_minute weekday_verbose_start weekday_verbose_end  \n",
       "0          27                   Tue                 Tue  \n",
       "1          37                   Tue                 Tue  \n",
       "2           5                   Tue                 Tue  \n",
       "3           4                   Tue                 Tue  \n",
       "4          17                   Tue                 Tue  "
      ]
     },
     "execution_count": 59,
     "metadata": {},
     "output_type": "execute_result"
    }
   ],
   "source": [
    "# adds column with verbosed weekday into DF\n",
    "\n",
    "weekday_dict = {0:\"Mon\", 1:\"Tue\", 2:\"Wed\", 3:\"Thu\", 4:\"Fri\", 5:\"Sat\", 6:\"Sun\"}\n",
    "data[\"weekday_verbose_start\"] = data[\"start_weekday\"].apply(lambda x: weekday_dict[x])\n",
    "data[\"weekday_verbose_end\"] = data[\"end_weekday\"].apply(lambda x: weekday_dict[x])\n",
    "data.head()"
   ]
  },
  {
   "cell_type": "code",
   "execution_count": 60,
   "id": "f63916e5",
   "metadata": {},
   "outputs": [],
   "source": [
    "weatherData[\"date_time\"] = pd.to_datetime(weatherData[\"date_time\"])\n",
    "weatherData[\"date\"]=weatherData[\"date_time\"].apply(lambda x: get_date (x))\n",
    "weatherData[\"hour\"]=weatherData[\"date_time\"].apply(lambda x: get_hour (x))"
   ]
  },
  {
   "cell_type": "markdown",
   "id": "b9baf06b",
   "metadata": {},
   "source": [
    "## 2.2 Dealing with Missing Values"
   ]
  },
  {
   "cell_type": "code",
   "execution_count": 61,
   "id": "c47507af",
   "metadata": {},
   "outputs": [
    {
     "data": {
      "text/plain": [
       "start_time                0\n",
       "end_time                  0\n",
       "start_station_id          0\n",
       "end_station_id            0\n",
       "bike_id                   0\n",
       "user_type                35\n",
       "start_station_name        0\n",
       "end_station_name          0\n",
       "duration                  0\n",
       "start_date                0\n",
       "start_weekday             0\n",
       "start_hour                0\n",
       "start_minute              0\n",
       "end_date                  0\n",
       "end_weekday               0\n",
       "end_hour                  0\n",
       "end_minute                0\n",
       "weekday_verbose_start     0\n",
       "weekday_verbose_end       0\n",
       "dtype: int64"
      ]
     },
     "execution_count": 61,
     "metadata": {},
     "output_type": "execute_result"
    }
   ],
   "source": [
    "# get number of missing values\n",
    "\n",
    "data.isnull().sum()"
   ]
  },
  {
   "cell_type": "markdown",
   "id": "c2311b0d",
   "metadata": {},
   "source": [
    "because there are only 35 out of 744260 rows with missing values, we can simply drop these rows"
   ]
  },
  {
   "cell_type": "code",
   "execution_count": 62,
   "id": "5608403e",
   "metadata": {},
   "outputs": [],
   "source": [
    "# drop rows with missing values\n",
    "\n",
    "data_clean_temp = data.dropna(axis=0, inplace=False)"
   ]
  },
  {
   "cell_type": "code",
   "execution_count": 63,
   "id": "3bdddce9",
   "metadata": {},
   "outputs": [
    {
     "data": {
      "text/plain": [
       "date_time    63\n",
       "max_temp     63\n",
       "min_temp     63\n",
       "precip       63\n",
       "date         63\n",
       "hour         63\n",
       "dtype: int64"
      ]
     },
     "execution_count": 63,
     "metadata": {},
     "output_type": "execute_result"
    }
   ],
   "source": [
    "# get number of missing values from weather\n",
    "\n",
    "weatherData.isnull().sum()"
   ]
  },
  {
   "cell_type": "code",
   "execution_count": 80,
   "id": "15448446",
   "metadata": {},
   "outputs": [],
   "source": [
    "# first we check if each column has null value, so no information get lost\n",
    "\n",
    "pd.set_option(\"display.max_rows\", None, \"display.max_columns\", None)\n",
    "weatherData_is_null = weatherData[weatherData['date_time'].isnull()]\n",
    "\n",
    "#print(weatherData_is_null)"
   ]
  },
  {
   "cell_type": "code",
   "execution_count": 83,
   "id": "c9f69627",
   "metadata": {},
   "outputs": [
    {
     "data": {
      "text/plain": [
       "max_temp    0.0\n",
       "min_temp    0.0\n",
       "precip      0.0\n",
       "date          0\n",
       "hour        0.0\n",
       "dtype: object"
      ]
     },
     "execution_count": 83,
     "metadata": {},
     "output_type": "execute_result"
    }
   ],
   "source": [
    "#check if null-values dropped\n",
    "\n",
    "weatherData_is_null.sum()"
   ]
  },
  {
   "cell_type": "code",
   "execution_count": 66,
   "id": "d913456e",
   "metadata": {},
   "outputs": [
    {
     "name": "stdout",
     "output_type": "stream",
     "text": [
      "<class 'pandas.core.frame.DataFrame'>\n",
      "Int64Index: 43785 entries, 0 to 43847\n",
      "Data columns (total 6 columns):\n",
      " #   Column     Non-Null Count  Dtype         \n",
      "---  ------     --------------  -----         \n",
      " 0   date_time  43785 non-null  datetime64[ns]\n",
      " 1   max_temp   43785 non-null  float64       \n",
      " 2   min_temp   43785 non-null  float64       \n",
      " 3   precip     43785 non-null  float64       \n",
      " 4   date       43785 non-null  object        \n",
      " 5   hour       43785 non-null  float64       \n",
      "dtypes: datetime64[ns](1), float64(4), object(1)\n",
      "memory usage: 2.3+ MB\n"
     ]
    }
   ],
   "source": [
    "# Now we can drop columns with null values\n",
    "\n",
    "weatherData_clean  = weatherData.dropna(axis=0, inplace=False)\n",
    "weatherData_clean.info()"
   ]
  },
  {
   "cell_type": "markdown",
   "id": "cadf5854",
   "metadata": {},
   "source": [
    "## 2.3 Dealing with Outliers"
   ]
  },
  {
   "cell_type": "markdown",
   "id": "8732c74e",
   "metadata": {},
   "source": [
    "Possible outliers are rides with a very high or low duration"
   ]
  },
  {
   "cell_type": "code",
   "execution_count": 67,
   "id": "1261a918",
   "metadata": {
    "scrolled": false
   },
   "outputs": [
    {
     "data": {
      "text/plain": [
       "count                       744225\n",
       "mean     0 days 00:24:44.368654640\n",
       "std      0 days 02:03:47.463561723\n",
       "min              -1 days +23:06:39\n",
       "25%                0 days 00:07:00\n",
       "50%                0 days 00:11:00\n",
       "75%                0 days 00:19:00\n",
       "max               21 days 13:24:08\n",
       "Name: duration, dtype: object"
      ]
     },
     "execution_count": 67,
     "metadata": {},
     "output_type": "execute_result"
    }
   ],
   "source": [
    "data_clean_temp.duration.describe()"
   ]
  },
  {
   "cell_type": "markdown",
   "id": "2292ef4c",
   "metadata": {},
   "source": [
    "we can drop rows with a duration ≤ 0 or a duration > 3 standard deviations because these are not representative"
   ]
  },
  {
   "cell_type": "code",
   "execution_count": 68,
   "id": "78df9688",
   "metadata": {
    "scrolled": true
   },
   "outputs": [
    {
     "data": {
      "text/plain": [
       "42"
      ]
     },
     "execution_count": 68,
     "metadata": {},
     "output_type": "execute_result"
    }
   ],
   "source": [
    "# get rows with duration <= 0\n",
    "\n",
    "low_duration = data_clean_temp.duration[data_clean_temp.duration <= pd.Timedelta(0)]\n",
    "low_duration.count()"
   ]
  },
  {
   "cell_type": "code",
   "execution_count": 69,
   "id": "ca3d2152",
   "metadata": {
    "scrolled": true
   },
   "outputs": [
    {
     "data": {
      "text/plain": [
       "4322"
      ]
     },
     "execution_count": 69,
     "metadata": {},
     "output_type": "execute_result"
    }
   ],
   "source": [
    "# get rows with duration > 3 standard deviations\n",
    "\n",
    "high_duration = data_clean_temp.duration[(data_clean_temp.duration > 3*data_clean_temp.duration.std())]\n",
    "high_duration.count()"
   ]
  },
  {
   "cell_type": "code",
   "execution_count": 70,
   "id": "82506247",
   "metadata": {
    "scrolled": false
   },
   "outputs": [],
   "source": [
    "# drop these rows\n",
    "\n",
    "data_clean_temp2 = data_clean_temp.drop(high_duration.index)\n",
    "data_clean = data_clean_temp2.drop(low_duration.index)"
   ]
  },
  {
   "cell_type": "code",
   "execution_count": 71,
   "id": "32d75690",
   "metadata": {},
   "outputs": [
    {
     "name": "stdout",
     "output_type": "stream",
     "text": [
      "<class 'pandas.core.frame.DataFrame'>\n",
      "Int64Index: 739861 entries, 0 to 744259\n",
      "Data columns (total 19 columns):\n",
      " #   Column                 Non-Null Count   Dtype          \n",
      "---  ------                 --------------   -----          \n",
      " 0   start_time             739861 non-null  datetime64[ns] \n",
      " 1   end_time               739861 non-null  datetime64[ns] \n",
      " 2   start_station_id       739861 non-null  int64          \n",
      " 3   end_station_id         739861 non-null  int64          \n",
      " 4   bike_id                739861 non-null  int64          \n",
      " 5   user_type              739861 non-null  object         \n",
      " 6   start_station_name     739861 non-null  object         \n",
      " 7   end_station_name       739861 non-null  object         \n",
      " 8   duration               739861 non-null  timedelta64[ns]\n",
      " 9   start_date             739861 non-null  object         \n",
      " 10  start_weekday          739861 non-null  int64          \n",
      " 11  start_hour             739861 non-null  int64          \n",
      " 12  start_minute           739861 non-null  int64          \n",
      " 13  end_date               739861 non-null  object         \n",
      " 14  end_weekday            739861 non-null  int64          \n",
      " 15  end_hour               739861 non-null  int64          \n",
      " 16  end_minute             739861 non-null  int64          \n",
      " 17  weekday_verbose_start  739861 non-null  object         \n",
      " 18  weekday_verbose_end    739861 non-null  object         \n",
      "dtypes: datetime64[ns](2), int64(9), object(7), timedelta64[ns](1)\n",
      "memory usage: 112.9+ MB\n"
     ]
    }
   ],
   "source": [
    "data_clean.info()"
   ]
  },
  {
   "cell_type": "markdown",
   "id": "8867eadd",
   "metadata": {},
   "source": [
    "## 2.4 Merge weather and data set"
   ]
  },
  {
   "cell_type": "code",
   "execution_count": 97,
   "id": "1d4207dd",
   "metadata": {},
   "outputs": [],
   "source": [
    "# merge (left join)\n",
    "data_merged_with_weather = data_clean.merge(weatherData_clean, left_on=['start_date', 'start_hour'], right_on=['date', 'hour'], how='left')\n",
    "data_clean = data_merged_with_weather"
   ]
  },
  {
   "cell_type": "code",
   "execution_count": 98,
   "id": "cbac6a8f",
   "metadata": {},
   "outputs": [
    {
     "name": "stdout",
     "output_type": "stream",
     "text": [
      "<class 'pandas.core.frame.DataFrame'>\n",
      "Int64Index: 777931 entries, 0 to 777930\n",
      "Data columns (total 25 columns):\n",
      " #   Column                 Non-Null Count   Dtype          \n",
      "---  ------                 --------------   -----          \n",
      " 0   start_time             777931 non-null  datetime64[ns] \n",
      " 1   end_time               777931 non-null  datetime64[ns] \n",
      " 2   start_station_id       777931 non-null  int64          \n",
      " 3   end_station_id         777931 non-null  int64          \n",
      " 4   bike_id                777931 non-null  int64          \n",
      " 5   user_type              777931 non-null  object         \n",
      " 6   start_station_name     777931 non-null  object         \n",
      " 7   end_station_name       777931 non-null  object         \n",
      " 8   duration               777931 non-null  timedelta64[ns]\n",
      " 9   start_date             777931 non-null  object         \n",
      " 10  start_weekday          777931 non-null  int64          \n",
      " 11  start_hour             777931 non-null  int64          \n",
      " 12  start_minute           777931 non-null  int64          \n",
      " 13  end_date               777931 non-null  object         \n",
      " 14  end_weekday            777931 non-null  int64          \n",
      " 15  end_hour               777931 non-null  int64          \n",
      " 16  end_minute             777931 non-null  int64          \n",
      " 17  weekday_verbose_start  777931 non-null  object         \n",
      " 18  weekday_verbose_end    777931 non-null  object         \n",
      " 19  date_time              734840 non-null  datetime64[ns] \n",
      " 20  max_temp               734840 non-null  float64        \n",
      " 21  min_temp               734840 non-null  float64        \n",
      " 22  precip                 734840 non-null  float64        \n",
      " 23  date                   734840 non-null  object         \n",
      " 24  hour                   734840 non-null  float64        \n",
      "dtypes: datetime64[ns](3), float64(4), int64(9), object(8), timedelta64[ns](1)\n",
      "memory usage: 154.3+ MB\n"
     ]
    }
   ],
   "source": [
    "data_clean.info()"
   ]
  },
  {
   "cell_type": "code",
   "execution_count": 99,
   "id": "d50a3edc",
   "metadata": {},
   "outputs": [
    {
     "data": {
      "text/html": [
       "<div>\n",
       "<style scoped>\n",
       "    .dataframe tbody tr th:only-of-type {\n",
       "        vertical-align: middle;\n",
       "    }\n",
       "\n",
       "    .dataframe tbody tr th {\n",
       "        vertical-align: top;\n",
       "    }\n",
       "\n",
       "    .dataframe thead th {\n",
       "        text-align: right;\n",
       "    }\n",
       "</style>\n",
       "<table border=\"1\" class=\"dataframe\">\n",
       "  <thead>\n",
       "    <tr style=\"text-align: right;\">\n",
       "      <th></th>\n",
       "      <th>start_time</th>\n",
       "      <th>end_time</th>\n",
       "      <th>start_station_id</th>\n",
       "      <th>end_station_id</th>\n",
       "      <th>bike_id</th>\n",
       "      <th>user_type</th>\n",
       "      <th>start_station_name</th>\n",
       "      <th>end_station_name</th>\n",
       "      <th>duration</th>\n",
       "      <th>start_date</th>\n",
       "      <th>start_weekday</th>\n",
       "      <th>start_hour</th>\n",
       "      <th>start_minute</th>\n",
       "      <th>end_date</th>\n",
       "      <th>end_weekday</th>\n",
       "      <th>end_hour</th>\n",
       "      <th>end_minute</th>\n",
       "      <th>weekday_verbose_start</th>\n",
       "      <th>weekday_verbose_end</th>\n",
       "      <th>date_time</th>\n",
       "      <th>max_temp</th>\n",
       "      <th>min_temp</th>\n",
       "      <th>precip</th>\n",
       "      <th>date</th>\n",
       "      <th>hour</th>\n",
       "    </tr>\n",
       "  </thead>\n",
       "  <tbody>\n",
       "    <tr>\n",
       "      <th>0</th>\n",
       "      <td>2019-01-01 00:19:00</td>\n",
       "      <td>2019-01-01 00:27:00</td>\n",
       "      <td>3049</td>\n",
       "      <td>3007</td>\n",
       "      <td>14495</td>\n",
       "      <td>Indego30</td>\n",
       "      <td>Foglietta Plaza</td>\n",
       "      <td>11th &amp; Pine, Kahn Park</td>\n",
       "      <td>0 days 00:08:00</td>\n",
       "      <td>2019-01-01</td>\n",
       "      <td>1</td>\n",
       "      <td>0</td>\n",
       "      <td>19</td>\n",
       "      <td>2019-01-01</td>\n",
       "      <td>1</td>\n",
       "      <td>0</td>\n",
       "      <td>27</td>\n",
       "      <td>Tue</td>\n",
       "      <td>Tue</td>\n",
       "      <td>2019-01-01</td>\n",
       "      <td>7.2</td>\n",
       "      <td>6.7</td>\n",
       "      <td>1.0</td>\n",
       "      <td>2019-01-01</td>\n",
       "      <td>0.0</td>\n",
       "    </tr>\n",
       "    <tr>\n",
       "      <th>1</th>\n",
       "      <td>2019-01-01 00:19:00</td>\n",
       "      <td>2019-01-01 00:27:00</td>\n",
       "      <td>3049</td>\n",
       "      <td>3007</td>\n",
       "      <td>14495</td>\n",
       "      <td>Indego30</td>\n",
       "      <td>Foglietta Plaza</td>\n",
       "      <td>11th &amp; Pine, Kahn Park</td>\n",
       "      <td>0 days 00:08:00</td>\n",
       "      <td>2019-01-01</td>\n",
       "      <td>1</td>\n",
       "      <td>0</td>\n",
       "      <td>19</td>\n",
       "      <td>2019-01-01</td>\n",
       "      <td>1</td>\n",
       "      <td>0</td>\n",
       "      <td>27</td>\n",
       "      <td>Tue</td>\n",
       "      <td>Tue</td>\n",
       "      <td>2019-01-01</td>\n",
       "      <td>6.7</td>\n",
       "      <td>6.1</td>\n",
       "      <td>0.0</td>\n",
       "      <td>2019-01-01</td>\n",
       "      <td>0.0</td>\n",
       "    </tr>\n",
       "    <tr>\n",
       "      <th>2</th>\n",
       "      <td>2019-01-01 00:30:00</td>\n",
       "      <td>2019-01-01 00:37:00</td>\n",
       "      <td>3005</td>\n",
       "      <td>3007</td>\n",
       "      <td>5332</td>\n",
       "      <td>Day Pass</td>\n",
       "      <td>Welcome Park, NPS</td>\n",
       "      <td>11th &amp; Pine, Kahn Park</td>\n",
       "      <td>0 days 00:07:00</td>\n",
       "      <td>2019-01-01</td>\n",
       "      <td>1</td>\n",
       "      <td>0</td>\n",
       "      <td>30</td>\n",
       "      <td>2019-01-01</td>\n",
       "      <td>1</td>\n",
       "      <td>0</td>\n",
       "      <td>37</td>\n",
       "      <td>Tue</td>\n",
       "      <td>Tue</td>\n",
       "      <td>2019-01-01</td>\n",
       "      <td>7.2</td>\n",
       "      <td>6.7</td>\n",
       "      <td>1.0</td>\n",
       "      <td>2019-01-01</td>\n",
       "      <td>0.0</td>\n",
       "    </tr>\n",
       "    <tr>\n",
       "      <th>3</th>\n",
       "      <td>2019-01-01 00:30:00</td>\n",
       "      <td>2019-01-01 00:37:00</td>\n",
       "      <td>3005</td>\n",
       "      <td>3007</td>\n",
       "      <td>5332</td>\n",
       "      <td>Day Pass</td>\n",
       "      <td>Welcome Park, NPS</td>\n",
       "      <td>11th &amp; Pine, Kahn Park</td>\n",
       "      <td>0 days 00:07:00</td>\n",
       "      <td>2019-01-01</td>\n",
       "      <td>1</td>\n",
       "      <td>0</td>\n",
       "      <td>30</td>\n",
       "      <td>2019-01-01</td>\n",
       "      <td>1</td>\n",
       "      <td>0</td>\n",
       "      <td>37</td>\n",
       "      <td>Tue</td>\n",
       "      <td>Tue</td>\n",
       "      <td>2019-01-01</td>\n",
       "      <td>6.7</td>\n",
       "      <td>6.1</td>\n",
       "      <td>0.0</td>\n",
       "      <td>2019-01-01</td>\n",
       "      <td>0.0</td>\n",
       "    </tr>\n",
       "    <tr>\n",
       "      <th>4</th>\n",
       "      <td>2019-01-01 00:52:00</td>\n",
       "      <td>2019-01-01 01:05:00</td>\n",
       "      <td>3166</td>\n",
       "      <td>3169</td>\n",
       "      <td>14623</td>\n",
       "      <td>Indego30</td>\n",
       "      <td>Frankford &amp; Belgrade</td>\n",
       "      <td>2nd &amp; Race</td>\n",
       "      <td>0 days 00:13:00</td>\n",
       "      <td>2019-01-01</td>\n",
       "      <td>1</td>\n",
       "      <td>0</td>\n",
       "      <td>52</td>\n",
       "      <td>2019-01-01</td>\n",
       "      <td>1</td>\n",
       "      <td>1</td>\n",
       "      <td>5</td>\n",
       "      <td>Tue</td>\n",
       "      <td>Tue</td>\n",
       "      <td>2019-01-01</td>\n",
       "      <td>7.2</td>\n",
       "      <td>6.7</td>\n",
       "      <td>1.0</td>\n",
       "      <td>2019-01-01</td>\n",
       "      <td>0.0</td>\n",
       "    </tr>\n",
       "  </tbody>\n",
       "</table>\n",
       "</div>"
      ],
      "text/plain": [
       "           start_time            end_time  start_station_id  end_station_id  \\\n",
       "0 2019-01-01 00:19:00 2019-01-01 00:27:00              3049            3007   \n",
       "1 2019-01-01 00:19:00 2019-01-01 00:27:00              3049            3007   \n",
       "2 2019-01-01 00:30:00 2019-01-01 00:37:00              3005            3007   \n",
       "3 2019-01-01 00:30:00 2019-01-01 00:37:00              3005            3007   \n",
       "4 2019-01-01 00:52:00 2019-01-01 01:05:00              3166            3169   \n",
       "\n",
       "   bike_id user_type    start_station_name        end_station_name  \\\n",
       "0    14495  Indego30       Foglietta Plaza  11th & Pine, Kahn Park   \n",
       "1    14495  Indego30       Foglietta Plaza  11th & Pine, Kahn Park   \n",
       "2     5332  Day Pass     Welcome Park, NPS  11th & Pine, Kahn Park   \n",
       "3     5332  Day Pass     Welcome Park, NPS  11th & Pine, Kahn Park   \n",
       "4    14623  Indego30  Frankford & Belgrade              2nd & Race   \n",
       "\n",
       "         duration  start_date  start_weekday  start_hour  start_minute  \\\n",
       "0 0 days 00:08:00  2019-01-01              1           0            19   \n",
       "1 0 days 00:08:00  2019-01-01              1           0            19   \n",
       "2 0 days 00:07:00  2019-01-01              1           0            30   \n",
       "3 0 days 00:07:00  2019-01-01              1           0            30   \n",
       "4 0 days 00:13:00  2019-01-01              1           0            52   \n",
       "\n",
       "     end_date  end_weekday  end_hour  end_minute weekday_verbose_start  \\\n",
       "0  2019-01-01            1         0          27                   Tue   \n",
       "1  2019-01-01            1         0          27                   Tue   \n",
       "2  2019-01-01            1         0          37                   Tue   \n",
       "3  2019-01-01            1         0          37                   Tue   \n",
       "4  2019-01-01            1         1           5                   Tue   \n",
       "\n",
       "  weekday_verbose_end  date_time  max_temp  min_temp  precip        date  hour  \n",
       "0                 Tue 2019-01-01       7.2       6.7     1.0  2019-01-01   0.0  \n",
       "1                 Tue 2019-01-01       6.7       6.1     0.0  2019-01-01   0.0  \n",
       "2                 Tue 2019-01-01       7.2       6.7     1.0  2019-01-01   0.0  \n",
       "3                 Tue 2019-01-01       6.7       6.1     0.0  2019-01-01   0.0  \n",
       "4                 Tue 2019-01-01       7.2       6.7     1.0  2019-01-01   0.0  "
      ]
     },
     "execution_count": 99,
     "metadata": {},
     "output_type": "execute_result"
    }
   ],
   "source": [
    "data_clean.head()"
   ]
  },
  {
   "cell_type": "markdown",
   "id": "80d28187",
   "metadata": {},
   "source": [
    "# 3. Descriptive Analytics"
   ]
  },
  {
   "cell_type": "markdown",
   "id": "4bf6333e",
   "metadata": {},
   "source": [
    "## 3.1 Temporal Demand Patterns and Seasonality"
   ]
  },
  {
   "cell_type": "markdown",
   "id": "7574855d",
   "metadata": {},
   "source": [
    "### 3.1.1 Average Usage per Weekday"
   ]
  },
  {
   "cell_type": "code",
   "execution_count": 100,
   "id": "d8bbaef0",
   "metadata": {},
   "outputs": [],
   "source": [
    "# Average trips by day of week \n",
    "\n",
    "bike_trips_weekday = data_clean.groupby([\"start_date\", \"weekday_verbose_start\"]).size().unstack(fill_value=0)\n",
    "mean = ['mean']\n",
    "bike_trips_mean_per_weekday = pd.DataFrame(bike_trips_weekday[[\"Mon\", \"Tue\", \"Wed\", \"Thu\", \"Fri\", \"Sat\", \"Sun\"]].mean(), columns=mean)"
   ]
  },
  {
   "cell_type": "code",
   "execution_count": 101,
   "id": "d60faeba",
   "metadata": {},
   "outputs": [
    {
     "data": {
      "image/png": "[encoded data removed]",
      "text/plain": [
       "<Figure size 1080x504 with 1 Axes>"
      ]
     },
     "metadata": {},
     "output_type": "display_data"
    }
   ],
   "source": [
    "# plot\n",
    "\n",
    "fig,ax = plt.subplots(figsize=(15,7)) \n",
    "sns.set_theme(style=\"darkgrid\")\n",
    "sns.barplot(x=bike_trips_mean_per_weekday.index, y='mean', data=bike_trips_mean_per_weekday, ax=ax)\n",
    "ax.set_title('Average Trip Count per Weekday', fontdict={'fontsize': 16, 'fontweight': 'bold'})\n",
    "ax.set_ylabel(\"# of bike trips\", fontsize=14)\n",
    "ax.set_xlabel(\"Weekdays\", fontsize=14)\n",
    "\n",
    "plt.show()"
   ]
  },
  {
   "cell_type": "markdown",
   "id": "2eda1606",
   "metadata": {},
   "source": [
    "**Analysis**\n",
    "Here we can see that the average bike trips are higher on working days compared to the weekend (Saturday, Sunday).\n",
    "On Tuesday is the maximum of average bike trips, followed by Wednesday. An explanation could be that on Tuesday an Wednesdays most people are working."
   ]
  },
  {
   "cell_type": "code",
   "execution_count": 102,
   "id": "6bca3853",
   "metadata": {},
   "outputs": [],
   "source": [
    "# bike trips over the day \n",
    "\n",
    "bike_trips_hourly = pd.DataFrame(data_clean).groupby([\"start_date\",\"start_hour\"])[\"bike_id\"].nunique()\n",
    "bike_trips_hourly = pd.DataFrame(bike_trips_hourly)"
   ]
  },
  {
   "cell_type": "code",
   "execution_count": 103,
   "id": "aae347cb",
   "metadata": {},
   "outputs": [
    {
     "data": {
      "image/png": "[encoded data removed]",
      "text/plain": [
       "<Figure size 1152x648 with 1 Axes>"
      ]
     },
     "metadata": {},
     "output_type": "display_data"
    }
   ],
   "source": [
    "# plot\n",
    "\n",
    "fig,ax = plt.subplots(figsize=(16,9)) \n",
    "\n",
    "sns.boxplot(x=bike_trips_hourly.index.get_level_values(1), y=bike_trips_hourly[\"bike_id\"],ax=ax)\n",
    "ax.set_title('Trip Count per Hour', fontdict={'fontsize': 16, 'fontweight': 'bold'})\n",
    "ax.set_ylabel(\"# of bike trips\", fontsize=14)\n",
    "ax.set_xlabel(\"Hour\", fontsize=14)\n",
    "plt.show()"
   ]
  },
  {
   "cell_type": "markdown",
   "id": "28c2b23b",
   "metadata": {},
   "source": [
    "### 3.1.2 Trip Duration per Weekday"
   ]
  },
  {
   "cell_type": "code",
   "execution_count": 94,
   "id": "98d90d6f",
   "metadata": {
    "scrolled": true
   },
   "outputs": [
    {
     "data": {
      "text/plain": [
       "[Text(0.5, 0, 'Weekdays'), Text(0, 0.5, 'Trip Duration in Seconds')]"
      ]
     },
     "execution_count": 94,
     "metadata": {},
     "output_type": "execute_result"
    },
    {
     "data": {
      "image/png": "[encoded data removed]",
      "text/plain": [
       "<Figure size 1080x504 with 1 Axes>"
      ]
     },
     "metadata": {},
     "output_type": "display_data"
    }
   ],
   "source": [
    "# get average trip duration per weekday\n",
    "\n",
    "avg_duration_mon = data_clean.duration[(data_clean.start_weekday == 0)].sum() / data_clean.duration[(data_clean.start_weekday == 0)].count()\n",
    "avg_duration_tue = data_clean.duration[(data_clean.start_weekday == 1)].sum() / data_clean.duration[(data_clean.start_weekday == 1)].count()\n",
    "avg_duration_wed = data_clean.duration[(data_clean.start_weekday == 2)].sum() / data_clean.duration[(data_clean.start_weekday == 2)].count()\n",
    "avg_duration_thu = data_clean.duration[(data_clean.start_weekday == 3)].sum() / data_clean.duration[(data_clean.start_weekday == 3)].count()\n",
    "avg_duration_fri = data_clean.duration[(data_clean.start_weekday == 4)].sum() / data_clean.duration[(data_clean.start_weekday == 4)].count()\n",
    "avg_duration_sat = data_clean.duration[(data_clean.start_weekday == 5)].sum() / data_clean.duration[(data_clean.start_weekday == 5)].count()\n",
    "avg_duration_sun = data_clean.duration[(data_clean.start_weekday == 6)].sum() / data_clean.duration[(data_clean.start_weekday == 6)].count()\n",
    "\n",
    "\n",
    "# make a Series with durations in seconds for plotting\n",
    "\n",
    "avg_durations = pd.Series([avg_duration_mon, avg_duration_tue, avg_duration_wed, avg_duration_thu, avg_duration_fri, avg_duration_sat, avg_duration_sun], index=['Mon', 'Tue', 'Wed', 'Thu', 'Fri', 'Sat', 'Sun']).astype('timedelta64[s]')\n",
    "\n",
    "# plot\n",
    "fig,ax = plt.subplots(figsize=(15,7))\n",
    "sns.set_theme(style=\"darkgrid\")\n",
    "plot = sns.barplot(x=avg_durations.index, y=avg_durations)\n",
    "plot.set(xlabel='Weekdays', ylabel='Trip Duration in Seconds')"
   ]
  },
  {
   "cell_type": "markdown",
   "id": "dc54f128",
   "metadata": {},
   "source": [
    "**Analysis**\n",
    "Here we can see, that the average trip duration is higher on weekends"
   ]
  },
  {
   "cell_type": "markdown",
   "id": "3711c416",
   "metadata": {},
   "source": [
    "### 3.1.3 Seasonal Usage"
   ]
  },
  {
   "cell_type": "code",
   "execution_count": 84,
   "id": "7c4b8d1c",
   "metadata": {},
   "outputs": [
    {
     "data": {
      "image/png": "[encoded data removed]",
      "text/plain": [
       "<Figure size 1080x504 with 1 Axes>"
      ]
     },
     "metadata": {},
     "output_type": "display_data"
    }
   ],
   "source": [
    "# set the time to when each season ends\n",
    "\n",
    "time_winter_starts = pd.to_datetime(\"2019-12-21 00:00:00\")\n",
    "time_winter_ends = pd.to_datetime(\"2019-3-20 23:59:59\")\n",
    "\n",
    "time_spring_starts = pd.to_datetime(\"2019-3-21 00:00:00\")\n",
    "time_spring_ends = pd.to_datetime(\"2019-6-20 23:59:59\")\n",
    "\n",
    "time_summer_starts = pd.to_datetime(\"2019-6-21 00:00:00\")\n",
    "time_summer_ends = pd.to_datetime(\"2019-9-20 23:59:59\")\n",
    "\n",
    "time_fall_starts = pd.to_datetime(\"2019-9-21 00:00:00\")\n",
    "time_fall_ends = pd.to_datetime(\"2019-12-20 23:59:59\")\n",
    "\n",
    "spring_usage_count = 0\n",
    "summer_usage_count = 0\n",
    "fall_usage_count = 0\n",
    "winter_usage_count = 0\n",
    "\n",
    "for time in data_merged.start_time:\n",
    "    if(time >= time_winter_starts or time <= time_winter_ends):\n",
    "        winter_usage_count += 1\n",
    "    elif(time >= time_spring_starts and time <= time_spring_ends):\n",
    "        spring_usage_count += 1\n",
    "    elif(time >= time_summer_starts and time <= time_summer_ends):\n",
    "        summer_usage_count += 1\n",
    "    elif(time >= time_fall_starts and time <= time_fall_ends):\n",
    "        fall_usage_count += 1\n",
    "\n",
    "#print(spring_usage_count, summer_usage_count, fall_usage_count, winter_usage_count)\n",
    "#check if values are equal:\n",
    "#print(spring_usage_count+summer_usage_count+ fall_usage_count+winter_usage_count)\n",
    "#print(data_clean.start_time.size)\n",
    "\n",
    "# create a Series for plotting with the usage and the respective seasons as indizes\n",
    "season_usage = pd.Series([spring_usage_count, summer_usage_count, fall_usage_count, winter_usage_count], index=['Spring', 'Summer', 'Fall', 'Winter'])\n",
    "\n",
    "# plot\n",
    "fig,ax = plt.subplots(figsize=(15,7)) \n",
    "\n",
    "sns.barplot(x=season_usage.index, y=season_usage)\n",
    "ax.set_title('Seasonal Bike Usage', fontdict={'fontsize': 16, 'fontweight': 'bold'})\n",
    "ax.set_ylabel(\"# of bike trips\", fontsize=14)\n",
    "ax.set_xlabel(\"Season\", fontsize=14)\n",
    "\n",
    "plt.show()"
   ]
  },
  {
   "cell_type": "markdown",
   "id": "f1a44895",
   "metadata": {},
   "source": [
    "### 3.1.4 Seasonal Patterns of Usage on Weekdays"
   ]
  },
  {
   "cell_type": "markdown",
   "id": "0433b2a3",
   "metadata": {},
   "source": [
    "### 3.1.5 Temperature and Usage Correlation"
   ]
  },
  {
   "cell_type": "markdown",
   "id": "1abd9b5f",
   "metadata": {},
   "source": [
    "## 3.2 Geographical Demand Patterns"
   ]
  },
  {
   "cell_type": "markdown",
   "id": "75eb0581",
   "metadata": {},
   "source": [
    "## 3.3 Key Performance Indicators"
   ]
  },
  {
   "cell_type": "markdown",
   "id": "67a70fc6",
   "metadata": {},
   "source": [
    "# 4. Predictive Analytics"
   ]
  },
  {
   "cell_type": "code",
   "execution_count": null,
   "id": "f5081a3a",
   "metadata": {},
   "outputs": [],
   "source": []
  }
 ],
 "metadata": {
  "kernelspec": {
   "display_name": "Python 3",
   "language": "python",
   "name": "python3"
  },
  "language_info": {
   "codemirror_mode": {
    "name": "ipython",
    "version": 3
   },
   "file_extension": ".py",
   "mimetype": "text/x-python",
   "name": "python",
   "nbconvert_exporter": "python",
   "pygments_lexer": "ipython3",
   "version": "3.9.1"
  }
 },
 "nbformat": 4,
 "nbformat_minor": 5
}
