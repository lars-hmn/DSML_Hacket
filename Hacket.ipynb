{
 "cells": [
  {
   "cell_type": "markdown",
   "id": "30fe92b5",
   "metadata": {},
   "source": [
    "# 1. Data Collection"
   ]
  },
  {
   "cell_type": "markdown",
   "id": "ec843a67",
   "metadata": {},
   "source": [
    "## 1.1 Import all Necessary Packages"
   ]
  },
  {
   "cell_type": "code",
   "execution_count": 42,
   "id": "4901b481",
   "metadata": {},
   "outputs": [],
   "source": [
    "import numpy as np\n",
    "\n",
    "import matplotlib as mpl\n",
    "import matplotlib.pyplot as plt\n",
    "\n",
    "import pandas as pd\n",
    "\n",
    "import seaborn as sns\n",
    "\n",
    "from datetime import date, time, datetime, timedelta"
   ]
  },
  {
   "cell_type": "markdown",
   "id": "d574c02b",
   "metadata": {},
   "source": [
    "## 1.2 Import the Raw Data"
   ]
  },
  {
   "cell_type": "code",
   "execution_count": 5,
   "id": "1b4da26c",
   "metadata": {},
   "outputs": [],
   "source": [
    "data = pd.read_csv(\"philadelphia_2019.csv\")\n",
    "weatherData = pd.read_csv(\"weather_hourly_philadelphia.csv\")"
   ]
  },
  {
   "cell_type": "markdown",
   "id": "33677080",
   "metadata": {},
   "source": [
    "## 1.3 Get an Overview over the Dataset"
   ]
  },
  {
   "cell_type": "code",
   "execution_count": 6,
   "id": "f79f3ef1",
   "metadata": {
    "scrolled": true
   },
   "outputs": [
    {
     "data": {
      "text/html": [
       "<div>\n",
       "<style scoped>\n",
       "    .dataframe tbody tr th:only-of-type {\n",
       "        vertical-align: middle;\n",
       "    }\n",
       "\n",
       "    .dataframe tbody tr th {\n",
       "        vertical-align: top;\n",
       "    }\n",
       "\n",
       "    .dataframe thead th {\n",
       "        text-align: right;\n",
       "    }\n",
       "</style>\n",
       "<table border=\"1\" class=\"dataframe\">\n",
       "  <thead>\n",
       "    <tr style=\"text-align: right;\">\n",
       "      <th></th>\n",
       "      <th>start_time</th>\n",
       "      <th>end_time</th>\n",
       "      <th>start_station_id</th>\n",
       "      <th>end_station_id</th>\n",
       "      <th>bike_id</th>\n",
       "      <th>user_type</th>\n",
       "      <th>start_station_name</th>\n",
       "      <th>end_station_name</th>\n",
       "    </tr>\n",
       "  </thead>\n",
       "  <tbody>\n",
       "    <tr>\n",
       "      <th>0</th>\n",
       "      <td>2019-01-01 00:19:00</td>\n",
       "      <td>2019-01-01 00:27:00</td>\n",
       "      <td>3049</td>\n",
       "      <td>3007</td>\n",
       "      <td>14495</td>\n",
       "      <td>Indego30</td>\n",
       "      <td>Foglietta Plaza</td>\n",
       "      <td>11th &amp; Pine, Kahn Park</td>\n",
       "    </tr>\n",
       "    <tr>\n",
       "      <th>1</th>\n",
       "      <td>2019-01-01 00:30:00</td>\n",
       "      <td>2019-01-01 00:37:00</td>\n",
       "      <td>3005</td>\n",
       "      <td>3007</td>\n",
       "      <td>5332</td>\n",
       "      <td>Day Pass</td>\n",
       "      <td>Welcome Park, NPS</td>\n",
       "      <td>11th &amp; Pine, Kahn Park</td>\n",
       "    </tr>\n",
       "    <tr>\n",
       "      <th>2</th>\n",
       "      <td>2019-01-01 00:52:00</td>\n",
       "      <td>2019-01-01 01:05:00</td>\n",
       "      <td>3166</td>\n",
       "      <td>3169</td>\n",
       "      <td>14623</td>\n",
       "      <td>Indego30</td>\n",
       "      <td>Frankford &amp; Belgrade</td>\n",
       "      <td>2nd &amp; Race</td>\n",
       "    </tr>\n",
       "    <tr>\n",
       "      <th>3</th>\n",
       "      <td>2019-01-01 00:55:00</td>\n",
       "      <td>2019-01-01 01:04:00</td>\n",
       "      <td>3058</td>\n",
       "      <td>3103</td>\n",
       "      <td>11706</td>\n",
       "      <td>Indego30</td>\n",
       "      <td>20th &amp; Fairmount</td>\n",
       "      <td>27th &amp; Master, Athletic Recreation Center</td>\n",
       "    </tr>\n",
       "    <tr>\n",
       "      <th>4</th>\n",
       "      <td>2019-01-01 01:05:00</td>\n",
       "      <td>2019-01-01 01:17:00</td>\n",
       "      <td>3182</td>\n",
       "      <td>3028</td>\n",
       "      <td>11039</td>\n",
       "      <td>Indego30</td>\n",
       "      <td>17th &amp; Sansom</td>\n",
       "      <td>4th &amp; Bainbridge</td>\n",
       "    </tr>\n",
       "  </tbody>\n",
       "</table>\n",
       "</div>"
      ],
      "text/plain": [
       "            start_time             end_time  start_station_id  end_station_id  \\\n",
       "0  2019-01-01 00:19:00  2019-01-01 00:27:00              3049            3007   \n",
       "1  2019-01-01 00:30:00  2019-01-01 00:37:00              3005            3007   \n",
       "2  2019-01-01 00:52:00  2019-01-01 01:05:00              3166            3169   \n",
       "3  2019-01-01 00:55:00  2019-01-01 01:04:00              3058            3103   \n",
       "4  2019-01-01 01:05:00  2019-01-01 01:17:00              3182            3028   \n",
       "\n",
       "   bike_id user_type    start_station_name  \\\n",
       "0    14495  Indego30       Foglietta Plaza   \n",
       "1     5332  Day Pass     Welcome Park, NPS   \n",
       "2    14623  Indego30  Frankford & Belgrade   \n",
       "3    11706  Indego30      20th & Fairmount   \n",
       "4    11039  Indego30         17th & Sansom   \n",
       "\n",
       "                            end_station_name  \n",
       "0                     11th & Pine, Kahn Park  \n",
       "1                     11th & Pine, Kahn Park  \n",
       "2                                 2nd & Race  \n",
       "3  27th & Master, Athletic Recreation Center  \n",
       "4                           4th & Bainbridge  "
      ]
     },
     "execution_count": 6,
     "metadata": {},
     "output_type": "execute_result"
    }
   ],
   "source": [
    "data.head()"
   ]
  },
  {
   "cell_type": "code",
   "execution_count": 7,
   "id": "bb4dc647",
   "metadata": {},
   "outputs": [
    {
     "data": {
      "text/html": [
       "<div>\n",
       "<style scoped>\n",
       "    .dataframe tbody tr th:only-of-type {\n",
       "        vertical-align: middle;\n",
       "    }\n",
       "\n",
       "    .dataframe tbody tr th {\n",
       "        vertical-align: top;\n",
       "    }\n",
       "\n",
       "    .dataframe thead th {\n",
       "        text-align: right;\n",
       "    }\n",
       "</style>\n",
       "<table border=\"1\" class=\"dataframe\">\n",
       "  <thead>\n",
       "    <tr style=\"text-align: right;\">\n",
       "      <th></th>\n",
       "      <th>start_station_id</th>\n",
       "      <th>end_station_id</th>\n",
       "      <th>bike_id</th>\n",
       "    </tr>\n",
       "  </thead>\n",
       "  <tbody>\n",
       "    <tr>\n",
       "      <th>count</th>\n",
       "      <td>744260.000000</td>\n",
       "      <td>744260.000000</td>\n",
       "      <td>744260.000000</td>\n",
       "    </tr>\n",
       "    <tr>\n",
       "      <th>mean</th>\n",
       "      <td>3081.936112</td>\n",
       "      <td>3081.409467</td>\n",
       "      <td>9825.729611</td>\n",
       "    </tr>\n",
       "    <tr>\n",
       "      <th>std</th>\n",
       "      <td>58.702453</td>\n",
       "      <td>59.296591</td>\n",
       "      <td>5404.388722</td>\n",
       "    </tr>\n",
       "    <tr>\n",
       "      <th>min</th>\n",
       "      <td>3000.000000</td>\n",
       "      <td>3000.000000</td>\n",
       "      <td>1.000000</td>\n",
       "    </tr>\n",
       "    <tr>\n",
       "      <th>25%</th>\n",
       "      <td>3033.000000</td>\n",
       "      <td>3032.000000</td>\n",
       "      <td>3729.000000</td>\n",
       "    </tr>\n",
       "    <tr>\n",
       "      <th>50%</th>\n",
       "      <td>3062.000000</td>\n",
       "      <td>3062.000000</td>\n",
       "      <td>11744.000000</td>\n",
       "    </tr>\n",
       "    <tr>\n",
       "      <th>75%</th>\n",
       "      <td>3123.000000</td>\n",
       "      <td>3124.000000</td>\n",
       "      <td>14592.000000</td>\n",
       "    </tr>\n",
       "    <tr>\n",
       "      <th>max</th>\n",
       "      <td>3210.000000</td>\n",
       "      <td>3210.000000</td>\n",
       "      <td>20265.000000</td>\n",
       "    </tr>\n",
       "  </tbody>\n",
       "</table>\n",
       "</div>"
      ],
      "text/plain": [
       "       start_station_id  end_station_id        bike_id\n",
       "count     744260.000000   744260.000000  744260.000000\n",
       "mean        3081.936112     3081.409467    9825.729611\n",
       "std           58.702453       59.296591    5404.388722\n",
       "min         3000.000000     3000.000000       1.000000\n",
       "25%         3033.000000     3032.000000    3729.000000\n",
       "50%         3062.000000     3062.000000   11744.000000\n",
       "75%         3123.000000     3124.000000   14592.000000\n",
       "max         3210.000000     3210.000000   20265.000000"
      ]
     },
     "execution_count": 7,
     "metadata": {},
     "output_type": "execute_result"
    }
   ],
   "source": [
    "data.describe()"
   ]
  },
  {
   "cell_type": "code",
   "execution_count": 8,
   "id": "0079fe07",
   "metadata": {
    "scrolled": true
   },
   "outputs": [
    {
     "data": {
      "text/plain": [
       "array(['Indego30', 'Day Pass', 'Indego365', 'IndegoFlex', 'Walk-up', nan],\n",
       "      dtype=object)"
      ]
     },
     "execution_count": 8,
     "metadata": {},
     "output_type": "execute_result"
    }
   ],
   "source": [
    "# get all different user types\n",
    "\n",
    "user_type_list = data['user_type'].unique()\n",
    "user_type_list"
   ]
  },
  {
   "cell_type": "markdown",
   "id": "d99c632b",
   "metadata": {},
   "source": [
    "# 2. Data Preparation"
   ]
  },
  {
   "cell_type": "markdown",
   "id": "912c9c4c",
   "metadata": {},
   "source": [
    "## 2.1 Formatting and Adding Attributes"
   ]
  },
  {
   "cell_type": "code",
   "execution_count": 9,
   "id": "ee7a82e7",
   "metadata": {},
   "outputs": [],
   "source": [
    "# make timestamps out of 'start_time' and 'end_time'\n",
    "\n",
    "data['start_time'] = pd.to_datetime(data['start_time'])\n",
    "data['end_time'] = pd.to_datetime(data['end_time'])"
   ]
  },
  {
   "cell_type": "code",
   "execution_count": 10,
   "id": "80d5dac2",
   "metadata": {
    "scrolled": true
   },
   "outputs": [],
   "source": [
    "# add durations of each ride\n",
    "\n",
    "data['duration'] = data['end_time'] - data['start_time']"
   ]
  },
  {
   "cell_type": "code",
   "execution_count": 11,
   "id": "78f62c6f",
   "metadata": {},
   "outputs": [],
   "source": [
    "# add start and end weekdays\n",
    "\n",
    "def get_weekday (ts):\n",
    "    return ts.weekday()\n",
    "\n",
    "data['start_weekday']=data['start_time'].apply(lambda x: get_weekday (x))\n",
    "data['end_weekday']=data['end_time'].apply(lambda x: get_weekday (x))"
   ]
  },
  {
   "cell_type": "markdown",
   "id": "b9baf06b",
   "metadata": {},
   "source": [
    "## 2.2 Dealing with Missing Values"
   ]
  },
  {
   "cell_type": "code",
   "execution_count": 21,
   "id": "c47507af",
   "metadata": {},
   "outputs": [
    {
     "data": {
      "text/plain": [
       "start_time             0\n",
       "end_time               0\n",
       "start_station_id       0\n",
       "end_station_id         0\n",
       "bike_id                0\n",
       "user_type             35\n",
       "start_station_name     0\n",
       "end_station_name       0\n",
       "duration               0\n",
       "start_weekday          0\n",
       "end_weekday            0\n",
       "dtype: int64"
      ]
     },
     "execution_count": 21,
     "metadata": {},
     "output_type": "execute_result"
    }
   ],
   "source": [
    "# get number of missing values\n",
    "\n",
    "data.isnull().sum()"
   ]
  },
  {
   "cell_type": "markdown",
   "id": "c2311b0d",
   "metadata": {},
   "source": [
    "because there are only 35 out of 744260 rows with missing values, we can simply drop these rows"
   ]
  },
  {
   "cell_type": "code",
   "execution_count": 50,
   "id": "5608403e",
   "metadata": {},
   "outputs": [],
   "source": [
    "# drop rows with missing values\n",
    "\n",
    "data_clean_temp = data.dropna(axis=0, inplace=False)"
   ]
  },
  {
   "cell_type": "markdown",
   "id": "cadf5854",
   "metadata": {},
   "source": [
    "## 2.3 Dealing with Outliers"
   ]
  },
  {
   "cell_type": "markdown",
   "id": "8732c74e",
   "metadata": {},
   "source": [
    "Possible outliers are rides with a very high or low duration"
   ]
  },
  {
   "cell_type": "code",
   "execution_count": 51,
   "id": "1261a918",
   "metadata": {
    "scrolled": false
   },
   "outputs": [
    {
     "data": {
      "text/plain": [
       "count                       744225\n",
       "mean     0 days 00:24:44.368654640\n",
       "std      0 days 02:03:47.463561723\n",
       "min              -1 days +23:06:39\n",
       "25%                0 days 00:07:00\n",
       "50%                0 days 00:11:00\n",
       "75%                0 days 00:19:00\n",
       "max               21 days 13:24:08\n",
       "Name: duration, dtype: object"
      ]
     },
     "execution_count": 51,
     "metadata": {},
     "output_type": "execute_result"
    }
   ],
   "source": [
    "data_clean_temp.duration.describe()"
   ]
  },
  {
   "cell_type": "markdown",
   "id": "0b054b24",
   "metadata": {},
   "source": [
    "we can drop rows with a duration ≤ 0 or a duration > 3 standard deviations because these are not representative"
   ]
  },
  {
   "cell_type": "code",
   "execution_count": 90,
   "id": "f5823f55",
   "metadata": {
    "scrolled": true
   },
   "outputs": [
    {
     "data": {
      "text/plain": [
       "42"
      ]
     },
     "execution_count": 90,
     "metadata": {},
     "output_type": "execute_result"
    }
   ],
   "source": [
    "# get rows with negative duration\n",
    "\n",
    "low_duration = data_clean_temp.duration[data_clean_temp.duration <= pd.Timedelta(0)]\n",
    "low_duration.count()"
   ]
  },
  {
   "cell_type": "code",
   "execution_count": 65,
   "id": "6d9d3a9e",
   "metadata": {
    "scrolled": true
   },
   "outputs": [
    {
     "data": {
      "text/plain": [
       "4322"
      ]
     },
     "execution_count": 65,
     "metadata": {},
     "output_type": "execute_result"
    }
   ],
   "source": [
    "# get rows with duration > 3 standard deviations\n",
    "\n",
    "high_duration = data_clean_temp.duration[(data_clean_temp.duration > 3*data_clean_temp.duration.std())]\n",
    "high_duration.count()"
   ]
  },
  {
   "cell_type": "code",
   "execution_count": 91,
   "id": "19e880d8",
   "metadata": {
    "scrolled": false
   },
   "outputs": [],
   "source": [
    "# drop these rows\n",
    "\n",
    "data_clean_temp2 = data_clean_temp.drop(high_duration.index)\n",
    "data_clean = data_clean_temp2.drop(low_duration.index)"
   ]
  },
  {
   "cell_type": "markdown",
   "id": "80d28187",
   "metadata": {},
   "source": [
    "# 3. Descriptive Analytics"
   ]
  },
  {
   "cell_type": "markdown",
   "id": "4bf6333e",
   "metadata": {},
   "source": [
    "## 3.1 Temporal Demand Patterns and Seasonality"
   ]
  },
  {
   "cell_type": "markdown",
   "id": "7574855d",
   "metadata": {},
   "source": [
    "### 3.1.1 Average Usage per Weekday"
   ]
  },
  {
   "cell_type": "markdown",
   "id": "28c2b23b",
   "metadata": {},
   "source": [
    "### 3.1.2 Trip Duration per Weekday"
   ]
  },
  {
   "cell_type": "code",
   "execution_count": 160,
   "id": "98d90d6f",
   "metadata": {
    "scrolled": true
   },
   "outputs": [
    {
     "data": {
      "text/plain": [
       "[Text(0.5, 0, 'Weekdays'), Text(0, 0.5, 'Trip Duration in Seconds')]"
      ]
     },
     "execution_count": 160,
     "metadata": {},
     "output_type": "execute_result"
    },
    {
     "data": {
      "image/png": "[encoded data removed]",
      "text/plain": [
       "<Figure size 432x288 with 1 Axes>"
      ]
     },
     "metadata": {},
     "output_type": "display_data"
    }
   ],
   "source": [
    "# get average trip duration per weekday\n",
    "\n",
    "avg_duration_mon = data_clean.duration[(data_clean.start_weekday == 0)].sum() / data_clean.duration[(data_clean.start_weekday == 0)].count()\n",
    "avg_duration_tue = data_clean.duration[(data_clean.start_weekday == 1)].sum() / data_clean.duration[(data_clean.start_weekday == 1)].count()\n",
    "avg_duration_wed = data_clean.duration[(data_clean.start_weekday == 2)].sum() / data_clean.duration[(data_clean.start_weekday == 2)].count()\n",
    "avg_duration_thu = data_clean.duration[(data_clean.start_weekday == 3)].sum() / data_clean.duration[(data_clean.start_weekday == 3)].count()\n",
    "avg_duration_fri = data_clean.duration[(data_clean.start_weekday == 4)].sum() / data_clean.duration[(data_clean.start_weekday == 4)].count()\n",
    "avg_duration_sat = data_clean.duration[(data_clean.start_weekday == 5)].sum() / data_clean.duration[(data_clean.start_weekday == 5)].count()\n",
    "avg_duration_sun = data_clean.duration[(data_clean.start_weekday == 6)].sum() / data_clean.duration[(data_clean.start_weekday == 6)].count()\n",
    "\n",
    "\n",
    "# make a Series with durations in seconds for plotting\n",
    "\n",
    "avg_durations = pd.Series([avg_duration_mon, avg_duration_tue, avg_duration_wed, avg_duration_thu, avg_duration_fri, avg_duration_sat, avg_duration_sun], index=['Mon', 'Tue', 'Wed', 'Thu', 'Fri', 'Sat', 'Sun']).astype('timedelta64[s]')\n",
    "\n",
    "# plot\n",
    "sns.set_theme(style=\"darkgrid\")\n",
    "plot = sns.barplot(x=avg_durations.index, y=avg_durations)\n",
    "plot.set(xlabel='Weekdays', ylabel='Trip Duration in Seconds')"
   ]
  },
  {
   "cell_type": "markdown",
   "id": "53c061d5",
   "metadata": {},
   "source": [
    "here we can see, that the average trip duration is higher on weekends"
   ]
  },
  {
   "cell_type": "markdown",
   "id": "3711c416",
   "metadata": {},
   "source": [
    "### 3.1.3 Seasonal Usage"
   ]
  },
  {
   "cell_type": "markdown",
   "id": "f1a44895",
   "metadata": {},
   "source": [
    "### 3.1.4 Seasonal Patterns of Usage on Weekdays"
   ]
  },
  {
   "cell_type": "markdown",
   "id": "0433b2a3",
   "metadata": {},
   "source": [
    "### 3.1.5 Temperature and Usage Correlation"
   ]
  },
  {
   "cell_type": "markdown",
   "id": "1abd9b5f",
   "metadata": {},
   "source": [
    "## 3.2 Geographical Demand Patterns"
   ]
  },
  {
   "cell_type": "markdown",
   "id": "75eb0581",
   "metadata": {},
   "source": [
    "## 3.3 Key Performance Indicators"
   ]
  },
  {
   "cell_type": "markdown",
   "id": "67a70fc6",
   "metadata": {},
   "source": [
    "# 4. Predictive Analytics"
   ]
  },
  {
   "cell_type": "code",
   "execution_count": null,
   "id": "f5081a3a",
   "metadata": {},
   "outputs": [],
   "source": []
  }
 ],
 "metadata": {
  "kernelspec": {
   "display_name": "Python 3",
   "language": "python",
   "name": "python3"
  },
  "language_info": {
   "codemirror_mode": {
    "name": "ipython",
    "version": 3
   },
   "file_extension": ".py",
   "mimetype": "text/x-python",
   "name": "python",
   "nbconvert_exporter": "python",
   "pygments_lexer": "ipython3",
   "version": "3.9.1"
  }
 },
 "nbformat": 4,
 "nbformat_minor": 5
}
