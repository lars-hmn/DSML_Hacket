{
 "cells": [
  {
   "cell_type": "code",
   "execution_count": 200,
   "id": "165a24f8",
   "metadata": {},
   "outputs": [],
   "source": [
    "import numpy as np\n",
    "import matplotlib as mpl\n",
    "import matplotlib.pyplot as plt\n",
    "import pandas as pd\n",
    "\n",
    "# Workshop 5\n",
    "from pandas.plotting import register_matplotlib_converters\n",
    "register_matplotlib_converters()\n",
    "import seaborn as sns\n",
    "sns.set()\n",
    "sns.set_style(\"white\")\n",
    "sns.set_palette(\"GnBu_d\")\n",
    "\n",
    "# also import these \"new\" libraries \n",
    "# Note: you may have to download an add them to your environment (using e.g. 'conda install -c conda-forge folium')\n",
    "\n",
    "import folium\n",
    "from folium import plugins\n",
    "from folium.plugins import HeatMap\n",
    "from datetime import datetime #for working with times objects\n",
    "from datetime import timedelta #for working with times objects\n",
    "import math\n",
    "import random\n",
    "#import timeit"
   ]
  },
  {
   "cell_type": "code",
   "execution_count": 201,
   "id": "484ed492",
   "metadata": {
    "scrolled": true
   },
   "outputs": [],
   "source": [
    "data = pd.read_csv(\"philadelphia_2019.csv\")\n",
    "weatherData = pd.read_csv(\"weather_hourly_philadelphia.csv\")"
   ]
  },
  {
   "cell_type": "markdown",
   "id": "d944d718",
   "metadata": {},
   "source": [
    "# 1.1 Quick overview"
   ]
  },
  {
   "cell_type": "code",
   "execution_count": 202,
   "id": "2688c758",
   "metadata": {
    "scrolled": true
   },
   "outputs": [
    {
     "data": {
      "text/html": [
       "<div>\n",
       "<style scoped>\n",
       "    .dataframe tbody tr th:only-of-type {\n",
       "        vertical-align: middle;\n",
       "    }\n",
       "\n",
       "    .dataframe tbody tr th {\n",
       "        vertical-align: top;\n",
       "    }\n",
       "\n",
       "    .dataframe thead th {\n",
       "        text-align: right;\n",
       "    }\n",
       "</style>\n",
       "<table border=\"1\" class=\"dataframe\">\n",
       "  <thead>\n",
       "    <tr style=\"text-align: right;\">\n",
       "      <th></th>\n",
       "      <th>start_time</th>\n",
       "      <th>end_time</th>\n",
       "      <th>start_station_id</th>\n",
       "      <th>end_station_id</th>\n",
       "      <th>bike_id</th>\n",
       "      <th>user_type</th>\n",
       "      <th>start_station_name</th>\n",
       "      <th>end_station_name</th>\n",
       "    </tr>\n",
       "  </thead>\n",
       "  <tbody>\n",
       "    <tr>\n",
       "      <th>0</th>\n",
       "      <td>2019-01-01 00:19:00</td>\n",
       "      <td>2019-01-01 00:27:00</td>\n",
       "      <td>3049</td>\n",
       "      <td>3007</td>\n",
       "      <td>14495</td>\n",
       "      <td>Indego30</td>\n",
       "      <td>Foglietta Plaza</td>\n",
       "      <td>11th &amp; Pine, Kahn Park</td>\n",
       "    </tr>\n",
       "    <tr>\n",
       "      <th>1</th>\n",
       "      <td>2019-01-01 00:30:00</td>\n",
       "      <td>2019-01-01 00:37:00</td>\n",
       "      <td>3005</td>\n",
       "      <td>3007</td>\n",
       "      <td>5332</td>\n",
       "      <td>Day Pass</td>\n",
       "      <td>Welcome Park, NPS</td>\n",
       "      <td>11th &amp; Pine, Kahn Park</td>\n",
       "    </tr>\n",
       "    <tr>\n",
       "      <th>2</th>\n",
       "      <td>2019-01-01 00:52:00</td>\n",
       "      <td>2019-01-01 01:05:00</td>\n",
       "      <td>3166</td>\n",
       "      <td>3169</td>\n",
       "      <td>14623</td>\n",
       "      <td>Indego30</td>\n",
       "      <td>Frankford &amp; Belgrade</td>\n",
       "      <td>2nd &amp; Race</td>\n",
       "    </tr>\n",
       "    <tr>\n",
       "      <th>3</th>\n",
       "      <td>2019-01-01 00:55:00</td>\n",
       "      <td>2019-01-01 01:04:00</td>\n",
       "      <td>3058</td>\n",
       "      <td>3103</td>\n",
       "      <td>11706</td>\n",
       "      <td>Indego30</td>\n",
       "      <td>20th &amp; Fairmount</td>\n",
       "      <td>27th &amp; Master, Athletic Recreation Center</td>\n",
       "    </tr>\n",
       "    <tr>\n",
       "      <th>4</th>\n",
       "      <td>2019-01-01 01:05:00</td>\n",
       "      <td>2019-01-01 01:17:00</td>\n",
       "      <td>3182</td>\n",
       "      <td>3028</td>\n",
       "      <td>11039</td>\n",
       "      <td>Indego30</td>\n",
       "      <td>17th &amp; Sansom</td>\n",
       "      <td>4th &amp; Bainbridge</td>\n",
       "    </tr>\n",
       "  </tbody>\n",
       "</table>\n",
       "</div>"
      ],
      "text/plain": [
       "            start_time             end_time  start_station_id  end_station_id  \\\n",
       "0  2019-01-01 00:19:00  2019-01-01 00:27:00              3049            3007   \n",
       "1  2019-01-01 00:30:00  2019-01-01 00:37:00              3005            3007   \n",
       "2  2019-01-01 00:52:00  2019-01-01 01:05:00              3166            3169   \n",
       "3  2019-01-01 00:55:00  2019-01-01 01:04:00              3058            3103   \n",
       "4  2019-01-01 01:05:00  2019-01-01 01:17:00              3182            3028   \n",
       "\n",
       "   bike_id user_type    start_station_name  \\\n",
       "0    14495  Indego30       Foglietta Plaza   \n",
       "1     5332  Day Pass     Welcome Park, NPS   \n",
       "2    14623  Indego30  Frankford & Belgrade   \n",
       "3    11706  Indego30      20th & Fairmount   \n",
       "4    11039  Indego30         17th & Sansom   \n",
       "\n",
       "                            end_station_name  \n",
       "0                     11th & Pine, Kahn Park  \n",
       "1                     11th & Pine, Kahn Park  \n",
       "2                                 2nd & Race  \n",
       "3  27th & Master, Athletic Recreation Center  \n",
       "4                           4th & Bainbridge  "
      ]
     },
     "execution_count": 202,
     "metadata": {},
     "output_type": "execute_result"
    }
   ],
   "source": [
    "data.head()"
   ]
  },
  {
   "cell_type": "code",
   "execution_count": 203,
   "id": "fa47a4ad",
   "metadata": {
    "scrolled": false
   },
   "outputs": [
    {
     "name": "stdout",
     "output_type": "stream",
     "text": [
      "<class 'pandas.core.frame.DataFrame'>\n",
      "RangeIndex: 744260 entries, 0 to 744259\n",
      "Data columns (total 8 columns):\n",
      " #   Column              Non-Null Count   Dtype \n",
      "---  ------              --------------   ----- \n",
      " 0   start_time          744260 non-null  object\n",
      " 1   end_time            744260 non-null  object\n",
      " 2   start_station_id    744260 non-null  int64 \n",
      " 3   end_station_id      744260 non-null  int64 \n",
      " 4   bike_id             744260 non-null  int64 \n",
      " 5   user_type           744225 non-null  object\n",
      " 6   start_station_name  744260 non-null  object\n",
      " 7   end_station_name    744260 non-null  object\n",
      "dtypes: int64(3), object(5)\n",
      "memory usage: 45.4+ MB\n"
     ]
    }
   ],
   "source": [
    "data.info()"
   ]
  },
  {
   "cell_type": "code",
   "execution_count": 204,
   "id": "4fe41145",
   "metadata": {},
   "outputs": [
    {
     "data": {
      "text/plain": [
       "array(['Indego30', 'Day Pass', 'Indego365', 'IndegoFlex', 'Walk-up', nan],\n",
       "      dtype=object)"
      ]
     },
     "execution_count": 204,
     "metadata": {},
     "output_type": "execute_result"
    }
   ],
   "source": [
    "user_types = data['user_type'].unique()\n",
    "user_types"
   ]
  },
  {
   "cell_type": "code",
   "execution_count": 205,
   "id": "1f462d1c",
   "metadata": {},
   "outputs": [
    {
     "data": {
      "text/plain": [
       "Indego30      505872\n",
       "Indego365     147580\n",
       "Day Pass       89137\n",
       "IndegoFlex      1410\n",
       "Walk-up          226\n",
       "Name: user_type, dtype: int64"
      ]
     },
     "execution_count": 205,
     "metadata": {},
     "output_type": "execute_result"
    }
   ],
   "source": [
    "data['user_type'].value_counts()\n",
    "        "
   ]
  },
  {
   "cell_type": "markdown",
   "id": "494be667",
   "metadata": {},
   "source": [
    "# 1.2 Data Preparation"
   ]
  },
  {
   "cell_type": "markdown",
   "id": "3348c1e6",
   "metadata": {},
   "source": [
    "## 1.2.1 Dealing with missing values"
   ]
  },
  {
   "cell_type": "code",
   "execution_count": 206,
   "id": "7a6f852e",
   "metadata": {
    "scrolled": false
   },
   "outputs": [
    {
     "data": {
      "text/plain": [
       "start_time             0\n",
       "end_time               0\n",
       "start_station_id       0\n",
       "end_station_id         0\n",
       "bike_id                0\n",
       "user_type             35\n",
       "start_station_name     0\n",
       "end_station_name       0\n",
       "dtype: int64"
      ]
     },
     "execution_count": 206,
     "metadata": {},
     "output_type": "execute_result"
    }
   ],
   "source": [
    "data.isnull().sum()"
   ]
  },
  {
   "cell_type": "markdown",
   "id": "1e0d9196",
   "metadata": {},
   "source": [
    "because there are only 35 out of 744260 rows with missing values, we can simply drop these rows"
   ]
  },
  {
   "cell_type": "code",
   "execution_count": 207,
   "id": "39ce12df",
   "metadata": {},
   "outputs": [
    {
     "name": "stdout",
     "output_type": "stream",
     "text": [
      "<class 'pandas.core.frame.DataFrame'>\n",
      "Int64Index: 744225 entries, 0 to 744259\n",
      "Data columns (total 8 columns):\n",
      " #   Column              Non-Null Count   Dtype \n",
      "---  ------              --------------   ----- \n",
      " 0   start_time          744225 non-null  object\n",
      " 1   end_time            744225 non-null  object\n",
      " 2   start_station_id    744225 non-null  int64 \n",
      " 3   end_station_id      744225 non-null  int64 \n",
      " 4   bike_id             744225 non-null  int64 \n",
      " 5   user_type           744225 non-null  object\n",
      " 6   start_station_name  744225 non-null  object\n",
      " 7   end_station_name    744225 non-null  object\n",
      "dtypes: int64(3), object(5)\n",
      "memory usage: 51.1+ MB\n"
     ]
    }
   ],
   "source": [
    "data_clean = data.dropna(axis=0, inplace=False)\n",
    "data_clean.info()"
   ]
  },
  {
   "cell_type": "code",
   "execution_count": 208,
   "id": "3a8361fa",
   "metadata": {},
   "outputs": [],
   "source": [
    "data.sort_values([\"bike_id\",\"start_time\"], inplace=True)\n",
    "data.set_index(pd.DatetimeIndex(data[\"start_time\"]),inplace=True)\n",
    "data.drop(\"start_time\", axis=1, inplace=True)"
   ]
  },
  {
   "cell_type": "code",
   "execution_count": 209,
   "id": "89bf396b",
   "metadata": {},
   "outputs": [
    {
     "data": {
      "text/html": [
       "<div>\n",
       "<style scoped>\n",
       "    .dataframe tbody tr th:only-of-type {\n",
       "        vertical-align: middle;\n",
       "    }\n",
       "\n",
       "    .dataframe tbody tr th {\n",
       "        vertical-align: top;\n",
       "    }\n",
       "\n",
       "    .dataframe thead th {\n",
       "        text-align: right;\n",
       "    }\n",
       "</style>\n",
       "<table border=\"1\" class=\"dataframe\">\n",
       "  <thead>\n",
       "    <tr style=\"text-align: right;\">\n",
       "      <th></th>\n",
       "      <th>end_time</th>\n",
       "      <th>start_station_id</th>\n",
       "      <th>end_station_id</th>\n",
       "      <th>bike_id</th>\n",
       "      <th>user_type</th>\n",
       "      <th>start_station_name</th>\n",
       "      <th>end_station_name</th>\n",
       "    </tr>\n",
       "    <tr>\n",
       "      <th>start_time</th>\n",
       "      <th></th>\n",
       "      <th></th>\n",
       "      <th></th>\n",
       "      <th></th>\n",
       "      <th></th>\n",
       "      <th></th>\n",
       "      <th></th>\n",
       "    </tr>\n",
       "  </thead>\n",
       "  <tbody>\n",
       "    <tr>\n",
       "      <th>2019-09-27 12:48:00</th>\n",
       "      <td>9/27/2019 13:04</td>\n",
       "      <td>3167</td>\n",
       "      <td>3078</td>\n",
       "      <td>1</td>\n",
       "      <td>Indego365</td>\n",
       "      <td>12th &amp; Chestnut</td>\n",
       "      <td>19th &amp; Market</td>\n",
       "    </tr>\n",
       "    <tr>\n",
       "      <th>2019-09-27 13:05:00</th>\n",
       "      <td>9/27/2019 14:46</td>\n",
       "      <td>3078</td>\n",
       "      <td>3000</td>\n",
       "      <td>1</td>\n",
       "      <td>Indego365</td>\n",
       "      <td>19th &amp; Market</td>\n",
       "      <td>Virtual Station</td>\n",
       "    </tr>\n",
       "    <tr>\n",
       "      <th>2019-10-26 13:10:23</th>\n",
       "      <td>2019-10-26 14:10:23</td>\n",
       "      <td>3162</td>\n",
       "      <td>3000</td>\n",
       "      <td>42</td>\n",
       "      <td>Day Pass</td>\n",
       "      <td>27th &amp; South</td>\n",
       "      <td>Virtual Station</td>\n",
       "    </tr>\n",
       "    <tr>\n",
       "      <th>2019-12-11 14:19:12</th>\n",
       "      <td>2019-12-11 14:52:43</td>\n",
       "      <td>3042</td>\n",
       "      <td>3042</td>\n",
       "      <td>44</td>\n",
       "      <td>Indego365</td>\n",
       "      <td>3042</td>\n",
       "      <td>3042</td>\n",
       "    </tr>\n",
       "    <tr>\n",
       "      <th>2019-12-11 15:09:05</th>\n",
       "      <td>2019-12-11 16:25:57</td>\n",
       "      <td>3042</td>\n",
       "      <td>3000</td>\n",
       "      <td>44</td>\n",
       "      <td>Indego365</td>\n",
       "      <td>3042</td>\n",
       "      <td>Virtual Station</td>\n",
       "    </tr>\n",
       "  </tbody>\n",
       "</table>\n",
       "</div>"
      ],
      "text/plain": [
       "                                end_time  start_station_id  end_station_id  \\\n",
       "start_time                                                                   \n",
       "2019-09-27 12:48:00      9/27/2019 13:04              3167            3078   \n",
       "2019-09-27 13:05:00      9/27/2019 14:46              3078            3000   \n",
       "2019-10-26 13:10:23  2019-10-26 14:10:23              3162            3000   \n",
       "2019-12-11 14:19:12  2019-12-11 14:52:43              3042            3042   \n",
       "2019-12-11 15:09:05  2019-12-11 16:25:57              3042            3000   \n",
       "\n",
       "                     bike_id  user_type start_station_name end_station_name  \n",
       "start_time                                                                   \n",
       "2019-09-27 12:48:00        1  Indego365    12th & Chestnut    19th & Market  \n",
       "2019-09-27 13:05:00        1  Indego365      19th & Market  Virtual Station  \n",
       "2019-10-26 13:10:23       42   Day Pass       27th & South  Virtual Station  \n",
       "2019-12-11 14:19:12       44  Indego365               3042             3042  \n",
       "2019-12-11 15:09:05       44  Indego365               3042  Virtual Station  "
      ]
     },
     "execution_count": 209,
     "metadata": {},
     "output_type": "execute_result"
    }
   ],
   "source": [
    "data.head()"
   ]
  },
  {
   "cell_type": "code",
   "execution_count": 210,
   "id": "ccec5088",
   "metadata": {},
   "outputs": [],
   "source": [
    "# Maps time of day and day of week to our DF\n",
    "\n",
    "def get_date (ts):\n",
    "    return ts.date()\n",
    "\n",
    "def get_weekday (ts):\n",
    "    return ts.weekday()\n",
    "\n",
    "def get_hour (ts):\n",
    "    return ts.hour"
   ]
  },
  {
   "cell_type": "code",
   "execution_count": 211,
   "id": "51c66998",
   "metadata": {},
   "outputs": [],
   "source": [
    "# applies the previous defined functions to our DF\n",
    "data.reset_index(inplace=True) # resets the index(start_time) back to the original row\n",
    "data[\"Date\"] = data[\"start_time\"].apply(lambda ts: get_date (ts))\n",
    "data[\"Weekday\"]=data[\"start_time\"].apply(lambda x: get_weekday (x))\n",
    "data[\"Hour\"]=data[\"start_time\"].apply(lambda x: get_hour (x))"
   ]
  },
  {
   "cell_type": "code",
   "execution_count": 212,
   "id": "ce4759eb",
   "metadata": {},
   "outputs": [
    {
     "data": {
      "text/html": [
       "<div>\n",
       "<style scoped>\n",
       "    .dataframe tbody tr th:only-of-type {\n",
       "        vertical-align: middle;\n",
       "    }\n",
       "\n",
       "    .dataframe tbody tr th {\n",
       "        vertical-align: top;\n",
       "    }\n",
       "\n",
       "    .dataframe thead th {\n",
       "        text-align: right;\n",
       "    }\n",
       "</style>\n",
       "<table border=\"1\" class=\"dataframe\">\n",
       "  <thead>\n",
       "    <tr style=\"text-align: right;\">\n",
       "      <th></th>\n",
       "      <th>start_time</th>\n",
       "      <th>end_time</th>\n",
       "      <th>start_station_id</th>\n",
       "      <th>end_station_id</th>\n",
       "      <th>bike_id</th>\n",
       "      <th>user_type</th>\n",
       "      <th>start_station_name</th>\n",
       "      <th>end_station_name</th>\n",
       "      <th>Date</th>\n",
       "      <th>Weekday</th>\n",
       "      <th>Hour</th>\n",
       "    </tr>\n",
       "  </thead>\n",
       "  <tbody>\n",
       "    <tr>\n",
       "      <th>0</th>\n",
       "      <td>2019-09-27 12:48:00</td>\n",
       "      <td>9/27/2019 13:04</td>\n",
       "      <td>3167</td>\n",
       "      <td>3078</td>\n",
       "      <td>1</td>\n",
       "      <td>Indego365</td>\n",
       "      <td>12th &amp; Chestnut</td>\n",
       "      <td>19th &amp; Market</td>\n",
       "      <td>2019-09-27</td>\n",
       "      <td>4</td>\n",
       "      <td>12</td>\n",
       "    </tr>\n",
       "    <tr>\n",
       "      <th>1</th>\n",
       "      <td>2019-09-27 13:05:00</td>\n",
       "      <td>9/27/2019 14:46</td>\n",
       "      <td>3078</td>\n",
       "      <td>3000</td>\n",
       "      <td>1</td>\n",
       "      <td>Indego365</td>\n",
       "      <td>19th &amp; Market</td>\n",
       "      <td>Virtual Station</td>\n",
       "      <td>2019-09-27</td>\n",
       "      <td>4</td>\n",
       "      <td>13</td>\n",
       "    </tr>\n",
       "    <tr>\n",
       "      <th>2</th>\n",
       "      <td>2019-10-26 13:10:23</td>\n",
       "      <td>2019-10-26 14:10:23</td>\n",
       "      <td>3162</td>\n",
       "      <td>3000</td>\n",
       "      <td>42</td>\n",
       "      <td>Day Pass</td>\n",
       "      <td>27th &amp; South</td>\n",
       "      <td>Virtual Station</td>\n",
       "      <td>2019-10-26</td>\n",
       "      <td>5</td>\n",
       "      <td>13</td>\n",
       "    </tr>\n",
       "    <tr>\n",
       "      <th>3</th>\n",
       "      <td>2019-12-11 14:19:12</td>\n",
       "      <td>2019-12-11 14:52:43</td>\n",
       "      <td>3042</td>\n",
       "      <td>3042</td>\n",
       "      <td>44</td>\n",
       "      <td>Indego365</td>\n",
       "      <td>3042</td>\n",
       "      <td>3042</td>\n",
       "      <td>2019-12-11</td>\n",
       "      <td>2</td>\n",
       "      <td>14</td>\n",
       "    </tr>\n",
       "    <tr>\n",
       "      <th>4</th>\n",
       "      <td>2019-12-11 15:09:05</td>\n",
       "      <td>2019-12-11 16:25:57</td>\n",
       "      <td>3042</td>\n",
       "      <td>3000</td>\n",
       "      <td>44</td>\n",
       "      <td>Indego365</td>\n",
       "      <td>3042</td>\n",
       "      <td>Virtual Station</td>\n",
       "      <td>2019-12-11</td>\n",
       "      <td>2</td>\n",
       "      <td>15</td>\n",
       "    </tr>\n",
       "  </tbody>\n",
       "</table>\n",
       "</div>"
      ],
      "text/plain": [
       "           start_time             end_time  start_station_id  end_station_id  \\\n",
       "0 2019-09-27 12:48:00      9/27/2019 13:04              3167            3078   \n",
       "1 2019-09-27 13:05:00      9/27/2019 14:46              3078            3000   \n",
       "2 2019-10-26 13:10:23  2019-10-26 14:10:23              3162            3000   \n",
       "3 2019-12-11 14:19:12  2019-12-11 14:52:43              3042            3042   \n",
       "4 2019-12-11 15:09:05  2019-12-11 16:25:57              3042            3000   \n",
       "\n",
       "   bike_id  user_type start_station_name end_station_name        Date  \\\n",
       "0        1  Indego365    12th & Chestnut    19th & Market  2019-09-27   \n",
       "1        1  Indego365      19th & Market  Virtual Station  2019-09-27   \n",
       "2       42   Day Pass       27th & South  Virtual Station  2019-10-26   \n",
       "3       44  Indego365               3042             3042  2019-12-11   \n",
       "4       44  Indego365               3042  Virtual Station  2019-12-11   \n",
       "\n",
       "   Weekday  Hour  \n",
       "0        4    12  \n",
       "1        4    13  \n",
       "2        5    13  \n",
       "3        2    14  \n",
       "4        2    15  "
      ]
     },
     "execution_count": 212,
     "metadata": {},
     "output_type": "execute_result"
    }
   ],
   "source": [
    "data.head()"
   ]
  },
  {
   "cell_type": "code",
   "execution_count": 213,
   "id": "33f88b57",
   "metadata": {},
   "outputs": [],
   "source": [
    "# adds column with verbosed weekday into DF\n",
    "weekday_dict = {0:\"Mon\", 1:\"Tue\", 2:\"Wed\", 3:\"Thu\", 4:\"Fri\", 5:\"Sat\", 6:\"Sun\"}\n",
    "data[\"Weekday_verbose\"] = data[\"Weekday\"].apply(lambda x: weekday_dict[x])"
   ]
  },
  {
   "cell_type": "code",
   "execution_count": 214,
   "id": "93c1d528",
   "metadata": {},
   "outputs": [
    {
     "data": {
      "text/html": [
       "<div>\n",
       "<style scoped>\n",
       "    .dataframe tbody tr th:only-of-type {\n",
       "        vertical-align: middle;\n",
       "    }\n",
       "\n",
       "    .dataframe tbody tr th {\n",
       "        vertical-align: top;\n",
       "    }\n",
       "\n",
       "    .dataframe thead th {\n",
       "        text-align: right;\n",
       "    }\n",
       "</style>\n",
       "<table border=\"1\" class=\"dataframe\">\n",
       "  <thead>\n",
       "    <tr style=\"text-align: right;\">\n",
       "      <th></th>\n",
       "      <th>start_time</th>\n",
       "      <th>end_time</th>\n",
       "      <th>start_station_id</th>\n",
       "      <th>end_station_id</th>\n",
       "      <th>bike_id</th>\n",
       "      <th>user_type</th>\n",
       "      <th>start_station_name</th>\n",
       "      <th>end_station_name</th>\n",
       "      <th>Date</th>\n",
       "      <th>Weekday</th>\n",
       "      <th>Hour</th>\n",
       "      <th>Weekday_verbose</th>\n",
       "    </tr>\n",
       "  </thead>\n",
       "  <tbody>\n",
       "    <tr>\n",
       "      <th>0</th>\n",
       "      <td>2019-09-27 12:48:00</td>\n",
       "      <td>9/27/2019 13:04</td>\n",
       "      <td>3167</td>\n",
       "      <td>3078</td>\n",
       "      <td>1</td>\n",
       "      <td>Indego365</td>\n",
       "      <td>12th &amp; Chestnut</td>\n",
       "      <td>19th &amp; Market</td>\n",
       "      <td>2019-09-27</td>\n",
       "      <td>4</td>\n",
       "      <td>12</td>\n",
       "      <td>Fri</td>\n",
       "    </tr>\n",
       "    <tr>\n",
       "      <th>1</th>\n",
       "      <td>2019-09-27 13:05:00</td>\n",
       "      <td>9/27/2019 14:46</td>\n",
       "      <td>3078</td>\n",
       "      <td>3000</td>\n",
       "      <td>1</td>\n",
       "      <td>Indego365</td>\n",
       "      <td>19th &amp; Market</td>\n",
       "      <td>Virtual Station</td>\n",
       "      <td>2019-09-27</td>\n",
       "      <td>4</td>\n",
       "      <td>13</td>\n",
       "      <td>Fri</td>\n",
       "    </tr>\n",
       "    <tr>\n",
       "      <th>2</th>\n",
       "      <td>2019-10-26 13:10:23</td>\n",
       "      <td>2019-10-26 14:10:23</td>\n",
       "      <td>3162</td>\n",
       "      <td>3000</td>\n",
       "      <td>42</td>\n",
       "      <td>Day Pass</td>\n",
       "      <td>27th &amp; South</td>\n",
       "      <td>Virtual Station</td>\n",
       "      <td>2019-10-26</td>\n",
       "      <td>5</td>\n",
       "      <td>13</td>\n",
       "      <td>Sat</td>\n",
       "    </tr>\n",
       "    <tr>\n",
       "      <th>3</th>\n",
       "      <td>2019-12-11 14:19:12</td>\n",
       "      <td>2019-12-11 14:52:43</td>\n",
       "      <td>3042</td>\n",
       "      <td>3042</td>\n",
       "      <td>44</td>\n",
       "      <td>Indego365</td>\n",
       "      <td>3042</td>\n",
       "      <td>3042</td>\n",
       "      <td>2019-12-11</td>\n",
       "      <td>2</td>\n",
       "      <td>14</td>\n",
       "      <td>Wed</td>\n",
       "    </tr>\n",
       "    <tr>\n",
       "      <th>4</th>\n",
       "      <td>2019-12-11 15:09:05</td>\n",
       "      <td>2019-12-11 16:25:57</td>\n",
       "      <td>3042</td>\n",
       "      <td>3000</td>\n",
       "      <td>44</td>\n",
       "      <td>Indego365</td>\n",
       "      <td>3042</td>\n",
       "      <td>Virtual Station</td>\n",
       "      <td>2019-12-11</td>\n",
       "      <td>2</td>\n",
       "      <td>15</td>\n",
       "      <td>Wed</td>\n",
       "    </tr>\n",
       "  </tbody>\n",
       "</table>\n",
       "</div>"
      ],
      "text/plain": [
       "           start_time             end_time  start_station_id  end_station_id  \\\n",
       "0 2019-09-27 12:48:00      9/27/2019 13:04              3167            3078   \n",
       "1 2019-09-27 13:05:00      9/27/2019 14:46              3078            3000   \n",
       "2 2019-10-26 13:10:23  2019-10-26 14:10:23              3162            3000   \n",
       "3 2019-12-11 14:19:12  2019-12-11 14:52:43              3042            3042   \n",
       "4 2019-12-11 15:09:05  2019-12-11 16:25:57              3042            3000   \n",
       "\n",
       "   bike_id  user_type start_station_name end_station_name        Date  \\\n",
       "0        1  Indego365    12th & Chestnut    19th & Market  2019-09-27   \n",
       "1        1  Indego365      19th & Market  Virtual Station  2019-09-27   \n",
       "2       42   Day Pass       27th & South  Virtual Station  2019-10-26   \n",
       "3       44  Indego365               3042             3042  2019-12-11   \n",
       "4       44  Indego365               3042  Virtual Station  2019-12-11   \n",
       "\n",
       "   Weekday  Hour Weekday_verbose  \n",
       "0        4    12             Fri  \n",
       "1        4    13             Fri  \n",
       "2        5    13             Sat  \n",
       "3        2    14             Wed  \n",
       "4        2    15             Wed  "
      ]
     },
     "execution_count": 214,
     "metadata": {},
     "output_type": "execute_result"
    }
   ],
   "source": [
    "data.head()"
   ]
  },
  {
   "cell_type": "markdown",
   "id": "93d63977",
   "metadata": {},
   "source": [
    "# Fleet Size and Availability"
   ]
  },
  {
   "cell_type": "code",
   "execution_count": 215,
   "id": "725754ef",
   "metadata": {},
   "outputs": [
    {
     "name": "stdout",
     "output_type": "stream",
     "text": [
      "The bike fleet consists of 1677 bikes (for the observed time frame)\n"
     ]
    }
   ],
   "source": [
    "fleet_size = len(data[\"bike_id\"].unique())\n",
    "\n",
    "print(\"The bike fleet from Indego consists of {} bikes (for the observed time frame)\".format(fleet_size))"
   ]
  },
  {
   "cell_type": "code",
   "execution_count": null,
   "id": "9cc9ea30",
   "metadata": {},
   "outputs": [],
   "source": []
  }
 ],
 "metadata": {
  "kernelspec": {
   "display_name": "Python 3",
   "language": "python",
   "name": "python3"
  },
  "language_info": {
   "codemirror_mode": {
    "name": "ipython",
    "version": 3
   },
   "file_extension": ".py",
   "mimetype": "text/x-python",
   "name": "python",
   "nbconvert_exporter": "python",
   "pygments_lexer": "ipython3",
   "version": "3.9.1"
  }
 },
 "nbformat": 4,
 "nbformat_minor": 5
}
